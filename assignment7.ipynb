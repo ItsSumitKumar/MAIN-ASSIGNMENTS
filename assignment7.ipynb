{
 "cells": [
  {
   "cell_type": "markdown",
   "id": "c87b34a6-b3dc-429d-af07-adb9cdb5f9b6",
   "metadata": {},
   "source": [
    "Q.1. Create two int type variables, apply addition, subtraction, division and multiplications\n",
    "and store the results in variables. Then print the data in the following format by calling the\n",
    "variables:\n",
    "First variable is __ & second variable is __.\n",
    "Addition: __ + __ = __\n",
    "Subtraction: __ - __ = __\n",
    "Multiplication: __ * __ = __\n",
    "Division: __ / __ = __\n",
    "\n",
    "Solution:"
   ]
  },
  {
   "cell_type": "code",
   "execution_count": 33,
   "id": "f026789e-f3df-4a8c-bf34-faae7c3f15d5",
   "metadata": {},
   "outputs": [
    {
     "name": "stdout",
     "output_type": "stream",
     "text": [
      "First variable is 10 & second variable is 2\n",
      "Addition : 10 + 2 =  12\n",
      "Subtraction : 10 - 2 = 8\n",
      "Multiplication : 10 * 2 = 20\n",
      "Division : 10 / 2 = 5.0\n"
     ]
    }
   ],
   "source": [
    "First_Var = 10\n",
    "Second_Var = 2\n",
    "\n",
    "print(f\"First variable is {First_Var} & second variable is {Second_Var}\")\n",
    "\n",
    "Addition = First_Var + Second_Var\n",
    "Subtraction = First_Var - Second_Var\n",
    "Multiplication = First_Var * Second_Var\n",
    "Division = First_Var / Second_Var\n",
    "\n",
    "print(f\"Addition : {First_Var} + {Second_Var} =  {Addition}\")\n",
    "print(f\"Subtraction : {First_Var} - {Second_Var} = {Subtraction}\")\n",
    "print(f\"Multiplication : {First_Var} * {Second_Var} = {Multiplication}\")\n",
    "print(f\"Division : {First_Var} / {Second_Var} = {Division}\")\n"
   ]
  },
  {
   "cell_type": "markdown",
   "id": "dc063af8-be23-4b24-a7ce-ca3fabd2b4cf",
   "metadata": {},
   "source": [
    "Q.2. What is the difference between the following operators:\n",
    "(i) ‘/’ & ‘//’\n",
    "(ii) ‘**’ & ‘^’\n",
    "\n",
    "Solution:(1) '/': This is the division operator in Python. It performs regular floating-point division, which means that it calculates the quotient and returns a floating-point result. \n",
    "\n",
    "(2) '//': This is the floor division operator in Python. It performs division and rounds down the result to the nearest whole number (integer). It discards any fractional part of the result. \n",
    "   \n",
    "(3) '**': This is the exponentiation operator in Python. It raises the left operand to the power of the right operand. \n",
    "    \n",
    "(4) '^': The caret symbol (^) is not an exponentiation operator in Python. Instead, it is the bitwise XOR operator. It performs bitwise XOR operation on the binary representation of two operands. It calculates the XOR of each corresponding bit of the operands.\n",
    "    "
   ]
  },
  {
   "cell_type": "code",
   "execution_count": 34,
   "id": "00bab366-bf9d-4215-ac8f-c1a7071d1445",
   "metadata": {},
   "outputs": [
    {
     "name": "stdout",
     "output_type": "stream",
     "text": [
      "2.3333333333333335\n",
      "2\n",
      "8\n",
      "6\n"
     ]
    }
   ],
   "source": [
    "#For example\n",
    "#numbers mentioned in explanation are respectively used in coding results.\n",
    "result_1 = 7 / 3\n",
    "print(result_1) \n",
    " \n",
    "result_2 = 7 // 3\n",
    "print(result_2)  \n",
    "\n",
    "result_3 = 2 ** 3\n",
    "print(result_3)  \n",
    "\n",
    "result_4 = 5 ^ 3\n",
    "print(result_4) \n"
   ]
  },
  {
   "cell_type": "markdown",
   "id": "b839e6fe-9a78-4cce-9fed-1e4168dabdda",
   "metadata": {},
   "source": [
    "Q.3. List the logical operators.\n",
    "\n",
    "Solution: The logical operators are used to perform logical operations on boolean values or expressions. Here are the logical operators in Python:\n",
    "\n",
    "Logical AND (and): The and operator returns True if both operands are True, and False otherwise. It evaluates the second operand only if the first operand is True.\n",
    "\n",
    "Logical OR (or): The or operator returns True if at least one of the operands is True, and False if both operands are False. It evaluates the second operand only if the first operand is False.\n",
    "\n",
    "Logical NOT (not): The not operator is a unary operator that negates the truth value of an expression. It returns True if the expression is False, and False if the expression is True.\n"
   ]
  },
  {
   "cell_type": "code",
   "execution_count": 35,
   "id": "69118732-c1c9-4742-a2c8-70254e06f54f",
   "metadata": {},
   "outputs": [
    {
     "name": "stdout",
     "output_type": "stream",
     "text": [
      "True\n",
      "True\n",
      "False\n"
     ]
    }
   ],
   "source": [
    "#Here's an example to demonstrate the usage of logical operators:\n",
    "x = 5\n",
    "y = 10\n",
    "z = 15\n",
    "\n",
    "# Logical AND\n",
    "print(x < y and y < z)  \n",
    "\n",
    "# Logical OR\n",
    "print(x < y or y > z)  \n",
    "\n",
    "# Logical NOT\n",
    "print(not x < y)        "
   ]
  },
  {
   "cell_type": "markdown",
   "id": "d825667b-923a-4dde-bc7c-90a36ec98759",
   "metadata": {},
   "source": [
    "Q.4. Explain right shift operator and left shift operator with examples.\n",
    "\n",
    "Solution:\n",
    "The right shift (>>) and left shift (<<) operators are commonly used in low-level programming, bitwise operations, and optimizing certain algorithms that involve manipulating binary representations of numbers.\n",
    " \n",
    "1)Right Shift Operator (>>):\n",
    "The right shift operator shifts the bits of a number to the right by a specified number of positions. It effectively divides the number by 2 raised to the power of the shift amount. The rightmost bits are discarded, and zeros are added as the new leftmost bits."
   ]
  },
  {
   "cell_type": "code",
   "execution_count": 38,
   "id": "dc151968-b661-42b4-a9d6-f3c75846dcdb",
   "metadata": {},
   "outputs": [
    {
     "name": "stdout",
     "output_type": "stream",
     "text": [
      "4\n"
     ]
    }
   ],
   "source": [
    "#Example:\n",
    "num = 16\n",
    "shift_amount = 2\n",
    "\n",
    "result = num >> shift_amount\n",
    "print(result)  \n",
    "\n",
    "#In this example, the number 16 (binary: 10000) is shifted 2 positions to the right using the right shift operator (>>). \n",
    "#he result is 4 (binary: 100), which is obtained by discarding the rightmost two bits and adding zeros as the new leftmost bits.\n",
    "\n"
   ]
  },
  {
   "cell_type": "markdown",
   "id": "d1362248-2269-4308-b47a-1a222062a0af",
   "metadata": {},
   "source": [
    "2)Left Shift Operator (<<):\n",
    "The left shift operator shifts the bits of a number to the left by a specified number of positions. It effectively multiplies the number by 2 raised to the power of the shift amount. Zeros are added as the new rightmost bits.\n"
   ]
  },
  {
   "cell_type": "code",
   "execution_count": 40,
   "id": "65ec7e6b-a6eb-49ad-9338-4c8ba0d85ae2",
   "metadata": {},
   "outputs": [
    {
     "name": "stdout",
     "output_type": "stream",
     "text": [
      "40\n"
     ]
    }
   ],
   "source": [
    "#Example:\n",
    "num = 5\n",
    "shift_amount = 3\n",
    "\n",
    "result = num << shift_amount\n",
    "print(result)  \n",
    "#In this example, the number 5 (binary: 101) is shifted 3 positions to the left using the left shift operator (<<). \n",
    "#The result is 40 (binary: 101000), which is obtained by adding three zeros as the new rightmost bits.\n",
    "\n"
   ]
  },
  {
   "cell_type": "markdown",
   "id": "b03875d6-e4eb-4015-b0fb-d936984245c0",
   "metadata": {},
   "source": [
    "Q.5. Create a list containing int type data of length 15. Then write a code to check if 10 is present in the list or not.\n",
    "\n",
    "Solution: \n"
   ]
  },
  {
   "cell_type": "code",
   "execution_count": 63,
   "id": "b44c6fef-f749-4902-a2d2-603542d338a2",
   "metadata": {},
   "outputs": [
    {
     "name": "stdout",
     "output_type": "stream",
     "text": [
      "15\n",
      "Number 10 is present in the List\n"
     ]
    }
   ],
   "source": [
    "List = [1 , 2, 3, 8 , 99 , 34 , 10 , 345 , 763, 12 , 1 , 86 , 23 , 25 , 15]\n",
    "print(len(List))\n",
    "\n",
    "for i in List:\n",
    "    if(i==10):\n",
    "        result=True\n",
    "        break\n",
    "        \n",
    "    else:\n",
    "        result=False\n",
    "        \n",
    "if(result==True):\n",
    "    print(\"Number 10 is present in the List\")\n",
    "      \n",
    "else:\n",
    "    print(\"Number 10 is not present in the List\")"
   ]
  },
  {
   "cell_type": "code",
   "execution_count": null,
   "id": "437ad29d-8ec4-46a3-9d71-20ba004a1511",
   "metadata": {},
   "outputs": [],
   "source": []
  }
 ],
 "metadata": {
  "kernelspec": {
   "display_name": "Python 3 (ipykernel)",
   "language": "python",
   "name": "python3"
  },
  "language_info": {
   "codemirror_mode": {
    "name": "ipython",
    "version": 3
   },
   "file_extension": ".py",
   "mimetype": "text/x-python",
   "name": "python",
   "nbconvert_exporter": "python",
   "pygments_lexer": "ipython3",
   "version": "3.10.6"
  }
 },
 "nbformat": 4,
 "nbformat_minor": 5
}
