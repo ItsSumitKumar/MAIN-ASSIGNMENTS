{
 "cells": [
  {
   "cell_type": "markdown",
   "id": "93c2933a-58d2-429c-a869-bec743d034b0",
   "metadata": {},
   "source": [
    "1. In Python, what is the difference between a built-in function and a user-defined function? Provide an example of each.\n",
    "\n",
    "Solution: \n",
    "* Built-in function are already defined in Python and can be used directly by calling it. Importing a package or module might be necessary.\n",
    "An example of a built-in function is the len() function, which is used to determine the length of an object. For instance, len(\"Hello World\") would return 11.\n",
    "\n",
    "* User defined function, the word itself says it has to be defined by the user themselves for specific task.\n",
    "\n",
    "def add_numbers(x, y):\n",
    "    return x + y\n",
    "This function takes two arguments, x and y, and returns their sum. It can be called by using add_numbers(2, 3), which would return 5."
   ]
  },
  {
   "cell_type": "code",
   "execution_count": 3,
   "id": "0d02fa0d-5b5d-44c3-b6f0-2a8645e3d6e7",
   "metadata": {},
   "outputs": [
    {
     "data": {
      "text/plain": [
       "5"
      ]
     },
     "execution_count": 3,
     "metadata": {},
     "output_type": "execute_result"
    }
   ],
   "source": [
    "#using len() a built in function\n",
    "len('apple')"
   ]
  },
  {
   "cell_type": "code",
   "execution_count": 5,
   "id": "f44731e5-aeb8-4c9d-b13f-024deb2fb54d",
   "metadata": {},
   "outputs": [
    {
     "data": {
      "text/plain": [
       "5"
      ]
     },
     "execution_count": 5,
     "metadata": {},
     "output_type": "execute_result"
    }
   ],
   "source": [
    "# using user defined function\n",
    "\n",
    "def sum(a,b):\n",
    "    return a + b\n",
    "    \n",
    "sum(2,3)"
   ]
  },
  {
   "cell_type": "markdown",
   "id": "a9318312-6043-46c2-b46c-a9ba7fcc1d0a",
   "metadata": {},
   "source": [
    "2. How can you pass arguments to a function in Python? Explain the difference between positional arguments and keyword arguments.\n",
    "\n",
    "Solution: \n",
    "* In Python, we can pass arguments to a function by including them inside the parentheses when calling the function.\n",
    "def add_numbers(x, y):\n",
    "    return x + y\n",
    "to pass the arguments, we call the function and include the value for x and y <br />`add_numbers(2, 3)` this will return 2+3\n",
    "\n",
    "* Positional arguments are passed based on their position or order in the function's parameter list. That is the first argument passed will be assigned to the first parameter in the function, the second argument passed will be assigned to the second parameter, and so on.\n",
    "result = add_numbers(2, 3)\n",
    "in the above example, `2` is assigned to `x`, and `3` is assigned to `y`\n",
    "\n",
    "* Keyword arguments, on the other hand, are passed by explicitly specifying the parameter name followed by its value. This allows one to pass arguments out of order or skip optional parameters.\n",
    "def add_numbers(x, y=5):\n",
    "    return x + y\n",
    "\n",
    "# Keyword argument\n",
    "print(add_numbers(y = 4, x = 5)) # output -> 9\n",
    "\n",
    "# passing nothing for y\n",
    "print(add_numbers(6)) # output -> 11\n",
    "Here, while calling argument is explicitly specified, so the order does not matter. `x` will be assigned `5` and `y` will be assigned `4`.\n",
    "Also, default value for `y = 5`, if nothing is passed `5` will be considered for `y`."
   ]
  },
  {
   "cell_type": "code",
   "execution_count": 9,
   "id": "432e0eb5-e8f8-4256-95b3-7286b4ef0e25",
   "metadata": {},
   "outputs": [
    {
     "name": "stdout",
     "output_type": "stream",
     "text": [
      "x=5 , y=4\n",
      "9\n",
      "x=4 , y=5\n"
     ]
    },
    {
     "data": {
      "text/plain": [
       "9"
      ]
     },
     "execution_count": 9,
     "metadata": {},
     "output_type": "execute_result"
    }
   ],
   "source": [
    "def add_numbers(x , y=5):\n",
    "    print(f'x={x} , y={y}')\n",
    "    return x + y\n",
    "\n",
    "#keyword argument\n",
    "print(add_numbers(y=4 , x=5))\n",
    "\n",
    "#positional argument\n",
    "add_numbers(4)"
   ]
  },
  {
   "cell_type": "markdown",
   "id": "5079b97c-5c2a-4375-b667-29faeb252c8b",
   "metadata": {},
   "source": [
    "3. What is the purpose of the return statement in a function? Can a function have multiple return statements? Explain with an example.\n",
    "\n",
    "Solution: The return statement in a function is used to return a value or values from the function to the caller. When the return statement is executed, the function terminates and control is passed back to the caller with the value or values that were returned.\n",
    "\n",
    "A function can have multiple return statements, but only one of them will be executed. When a return statement is executed, the function immediately exits and returns the specified value.\n",
    "\n",
    "Here's an example of a function with multiple return statements:"
   ]
  },
  {
   "cell_type": "code",
   "execution_count": 10,
   "id": "79422622-645f-47a1-bda0-5be2666a96ec",
   "metadata": {},
   "outputs": [
    {
     "data": {
      "text/plain": [
       "'C'"
      ]
     },
     "execution_count": 10,
     "metadata": {},
     "output_type": "execute_result"
    }
   ],
   "source": [
    "def get_grade(score):\n",
    "    if score >= 90:\n",
    "        return \"A\"\n",
    "    elif score >= 80:\n",
    "        return \"B\"\n",
    "    elif score >= 70:\n",
    "        return \"C\"\n",
    "    else:\n",
    "        return \"F\"\n",
    "#This function takes a numerical score as input and returns a letter grade based on the score. \n",
    "#It has multiple return statements, but only one of them will be executed depending on the value of the score parameter. \n",
    "#If score is greater than or equal to 90, \"A\" will be returned. \n",
    "#If it's between 80 and 89, \"B\" will be returned, and so on. \n",
    "#If none of the conditions are met, \"F\" will be returned.\n",
    "\n",
    "get_grade(75)"
   ]
  },
  {
   "cell_type": "markdown",
   "id": "6bcab5e1-b234-4a39-a20f-7a5a9631ccdd",
   "metadata": {},
   "source": [
    "4. What are lambda functions in Python? How are they different from regular functions? Provide an example where a lambda function can be useful.\n",
    "\n",
    "Solution: Lambda functions in Python are small, anonymous functions that can be defined inline and used in the same way as regular functions. They are called anonymous because they do not have a name like a regular function.\n",
    "\n",
    "Lambda functions are different from regular functions in that they are defined using a single expression rather than a block of statements. They are typically used when you need a simple function for a short period of time and don't want to define a named function.\n",
    "\n",
    "Here's an example of a lambda function that takes two arguments and returns their sum:\n",
    "\n",
    "sum = lambda x, y: x + y\n",
    "This lambda function is equivalent to the following named function:\n",
    "\n",
    "def sum(x, y):\n",
    "    return x + y\n",
    "Lambda functions can be useful when you need to pass a simple function as an argument to another function. For example, the sorted() function can take a key argument that specifies a function to be used to extract a key from each element before sorting. Here's an example that uses a lambda function to sort a list of tuples by the second element:"
   ]
  },
  {
   "cell_type": "code",
   "execution_count": 13,
   "id": "8e0ff468-d9c8-4f99-9b4d-fecf5047e5e1",
   "metadata": {},
   "outputs": [
    {
     "name": "stdout",
     "output_type": "stream",
     "text": [
      "[(6, 0), (1, 2), (5, 3), (4, 5), (2, 6)]\n"
     ]
    }
   ],
   "source": [
    "#sorting tuple by second element\n",
    "my_list = [(1,2) , (4,5) , (2,6) , (5,3) , (6,0)]\n",
    "\n",
    "sorted_list = sorted(my_list , key=lambda x: x[1])\n",
    "\n",
    "#In this example, the lambda function lambda x: x[1] is used as the key argument to sorted(), \n",
    "#which tells it to sort the list of tuples by the second element of each tuple. \n",
    "\n",
    "print(sorted_list)"
   ]
  },
  {
   "cell_type": "markdown",
   "id": "75b404d8-b3c1-48ac-8779-8157ec8a91ef",
   "metadata": {},
   "source": [
    "5. How does the concept of \"scope\" apply to functions in Python? Explain the difference between local scope and global scope.\n",
    "\n",
    "Solution: \n",
    "* Scope refers to the region of code where a variable can be accessed.\n",
    "* A variable defined inside a function has local scope and can only be accessed within that function.\n",
    "* A variable defined outside of any function has global scope and can be accessed from anywhere in the program.\n",
    "* Local variables take precedence over global variables with the same name.\n",
    "* If a global variable needs to be modified inside a function, the global keyword is used to refer to it."
   ]
  },
  {
   "cell_type": "code",
   "execution_count": 19,
   "id": "5201b83a-4cec-4766-a57b-c87e0e9c97a3",
   "metadata": {},
   "outputs": [
    {
     "name": "stdout",
     "output_type": "stream",
     "text": [
      "Inside function: x = 10\n"
     ]
    }
   ],
   "source": [
    "# local scope\n",
    "def scope_function():\n",
    "    x = 10\n",
    "    print('Inside function: x =' , x)\n",
    "    \n",
    "scope_function()"
   ]
  },
  {
   "cell_type": "code",
   "execution_count": 20,
   "id": "56fc6bd4-9e3e-4432-947d-bc362aaf7ff3",
   "metadata": {},
   "outputs": [
    {
     "name": "stdout",
     "output_type": "stream",
     "text": [
      "Inside function: x = 5\n",
      "Global function: x = 10\n"
     ]
    }
   ],
   "source": [
    "# global scope\n",
    "\n",
    "x = 10\n",
    "\n",
    "def scope_function():\n",
    "    x = 5 # thi will take precedence over the global variable x = 10\n",
    "    print(\"Inside function: x =\", x)\n",
    "    \n",
    "scope_function()\n",
    "\n",
    "print('Global function: x =' , x)"
   ]
  },
  {
   "cell_type": "markdown",
   "id": "ec9a3c5e-df4e-4446-ab3c-a040cda90729",
   "metadata": {},
   "source": [
    "6. How can you use the \"return\" statement in a Python function to return multiple values?\n",
    "\n",
    "Solution: The return statement can be used in a Python function to return multiple values by separating them with commas"
   ]
  },
  {
   "cell_type": "code",
   "execution_count": 21,
   "id": "0d3a26db-7219-43bb-acba-e2ce993eda76",
   "metadata": {},
   "outputs": [
    {
     "data": {
      "text/plain": [
       "('Sumit', 'Data Science', '20')"
      ]
     },
     "execution_count": 21,
     "metadata": {},
     "output_type": "execute_result"
    }
   ],
   "source": [
    "def multiple_returns():\n",
    "    name = 'Sumit'\n",
    "    course = 'Data Science'\n",
    "    age = '20'\n",
    "    return name , course , age\n",
    "\n",
    "multiple_returns()"
   ]
  },
  {
   "cell_type": "markdown",
   "id": "b780f1e7-e589-491c-89ec-9aa1f25a4d38",
   "metadata": {},
   "source": [
    "7. What is the difference between the \"pass by value\" and \"pass by reference\" concepts when it comes to function arguments in Python?\n",
    "\n",
    "Solution: \n",
    "* In Python, all arguments are passed by reference. This means that a reference to the argument's memory location is passed to the function. Any modifications made to the argument inside the function will affect the original object outside the function as well.\n",
    "\n",
    "* Pass by value means that a copy of the argument's value is passed to the function. This is different from pass by reference, as any modifications made inside the function will not affect the original object outside the function. However, pass by value is not applicable in Python."
   ]
  },
  {
   "cell_type": "code",
   "execution_count": 24,
   "id": "fb175ce7-5698-4192-93ac-c387369d101c",
   "metadata": {},
   "outputs": [
    {
     "name": "stdout",
     "output_type": "stream",
     "text": [
      "Before: [1, 2, 3]\n",
      "After: [1, 2, 3, 4]\n"
     ]
    }
   ],
   "source": [
    "a_list = [1, 2, 3]\n",
    "\n",
    "def modify_list(a_list):\n",
    "    print(\"Before:\", a_list)\n",
    "    a_list.append(4)\n",
    "\n",
    "modify_list(a_list)\n",
    "print(\"After:\", a_list)"
   ]
  },
  {
   "cell_type": "markdown",
   "id": "27ff6545-6afc-4552-aab7-b9f5ef06af25",
   "metadata": {},
   "source": [
    "8. Create a function that can intake integer or decimal value and do following operations:\n",
    "* a. Logarithmic function (log x)\n",
    "* b. Exponential function (exp(x))\n",
    "* c. Power function with base 2 (2x)\n",
    "* d. Square root\n",
    "\n",
    "Solution : "
   ]
  },
  {
   "cell_type": "code",
   "execution_count": 27,
   "id": "5b7f4bc7-b2d1-465a-b6f9-c08d949cc115",
   "metadata": {},
   "outputs": [
    {
     "name": "stdout",
     "output_type": "stream",
     "text": [
      "log(5) = 1.6094379124341003\n",
      "exp(5) = 148.4131591025766\n",
      "2^5 = 32\n",
      "sqrt(5) = 2.23606797749979\n"
     ]
    }
   ],
   "source": [
    "#firstly we have to import function math\n",
    "\n",
    "import math\n",
    "\n",
    "def math_operations(x):\n",
    "    \n",
    "    #Logarithmic function (log x)\n",
    "    print(f'log({x}) = {math.log(x)}')\n",
    "    \n",
    "    #Exponential function (exp(x))\n",
    "    print(f'exp({x}) = {math.exp(x)}')\n",
    "    \n",
    "    #Power function with base 2 (2x)\n",
    "    print(f'2^{x} = {2**x}')\n",
    "    \n",
    "    #Square root\n",
    "    print(f'sqrt({x}) = {math.sqrt(x)}')\n",
    "    \n",
    "math_operations(5)\n",
    "    "
   ]
  },
  {
   "cell_type": "markdown",
   "id": "4a6e7cac-b986-43f0-9bce-9093110ee98a",
   "metadata": {},
   "source": [
    "9. Create a function that takes a full name as an argument and returns first name and last name.\n",
    "\n",
    "Solution:"
   ]
  },
  {
   "cell_type": "code",
   "execution_count": 42,
   "id": "2cb8e8e3-4eb9-406d-8839-57895569e8a6",
   "metadata": {},
   "outputs": [
    {
     "name": "stdout",
     "output_type": "stream",
     "text": [
      "First Name: Sumit \n",
      "Last Name: Kumar\n"
     ]
    }
   ],
   "source": [
    "def first_last_name(Full_name):\n",
    "    names = Full_name.split(\" \")\n",
    "    return( names[0] , names[1] )\n",
    "\n",
    "first_name , last_name = first_last_name(\"Sumit Kumar\")\n",
    "\n",
    "print(f\"First Name: {first_name} \\nLast Name: {last_name}\")\n",
    "    "
   ]
  }
 ],
 "metadata": {
  "kernelspec": {
   "display_name": "Python 3 (ipykernel)",
   "language": "python",
   "name": "python3"
  },
  "language_info": {
   "codemirror_mode": {
    "name": "ipython",
    "version": 3
   },
   "file_extension": ".py",
   "mimetype": "text/x-python",
   "name": "python",
   "nbconvert_exporter": "python",
   "pygments_lexer": "ipython3",
   "version": "3.10.6"
  }
 },
 "nbformat": 4,
 "nbformat_minor": 5
}
