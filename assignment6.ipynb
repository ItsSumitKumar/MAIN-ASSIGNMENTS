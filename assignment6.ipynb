{
 "cells": [
  {
   "cell_type": "markdown",
   "id": "6939ebf4-210f-43b1-86e6-adbb09d03313",
   "metadata": {},
   "source": [
    "Q.1. What are keywords in python? Using the keyword library, print all the python keywords.\n",
    "\n",
    "Solution: Key words in python are reserved words that can't be used as ordinary identifiers . They are used to define the syntax and structure of the python language ."
   ]
  },
  {
   "cell_type": "code",
   "execution_count": 1,
   "id": "301a7fd8-518c-4b1b-aa6a-7e695cc3feb3",
   "metadata": {},
   "outputs": [
    {
     "name": "stdout",
     "output_type": "stream",
     "text": [
      "['False', 'None', 'True', 'and', 'as', 'assert', 'async', 'await', 'break', 'class', 'continue', 'def', 'del', 'elif', 'else', 'except', 'finally', 'for', 'from', 'global', 'if', 'import', 'in', 'is', 'lambda', 'nonlocal', 'not', 'or', 'pass', 'raise', 'return', 'try', 'while', 'with', 'yield']\n"
     ]
    }
   ],
   "source": [
    "import keyword\n",
    "\n",
    "print(keyword.kwlist)"
   ]
  },
  {
   "cell_type": "markdown",
   "id": "f666bece-4b2b-4f5f-8676-01def1efa19a",
   "metadata": {},
   "source": [
    "Q.2. What are the rules to create variables in python?\n",
    "\n",
    "Solution: In Python, variables must start with a letter or underscore, followed by letters, digits, or underscores. They are case-sensitive. Reserved keywords cannot be used as variable names. Choose descriptive names, avoid starting with digits, and follow the naming conventions for readability and maintainability."
   ]
  },
  {
   "cell_type": "markdown",
   "id": "16b29024-ddb4-44cd-b9e4-e7ac86d1d854",
   "metadata": {},
   "source": [
    "Q.3. What are the standards and conventions followed for the nomenclature of variables in\n",
    "python to improve code readability and maintainability?\n",
    "\n",
    "Solution: In Python, there are several standards and conventions followed for variable naming to enhance code readability and maintainability. These conventions include:\n",
    "\n",
    "Snake Case: Variable names are written in lowercase with words separated by underscores (e.g., my_variable, total_count).\n",
    "\n",
    "Descriptive Names: Variable names should be meaningful and descriptive to convey their purpose and content (e.g., num_students, user_input).\n",
    "\n",
    "Avoid Abbreviations: Unless widely used and understood, it's better to avoid excessive abbreviations to maintain clarity (e.g., use maximum instead of max).\n",
    "\n",
    "Use of Constants: Constants are usually written in uppercase letters with underscores (e.g., MAX_VALUE, PI).\n",
    "\n",
    "By following these standards and conventions, code becomes more readable, self-explanatory, and easier to maintain, enabling collaboration and understanding among developers."
   ]
  },
  {
   "cell_type": "markdown",
   "id": "7d740a48-8f6b-4360-ac77-42da3767e787",
   "metadata": {},
   "source": [
    "Q.4. What will happen if a keyword is used as a variable name?\n",
    "\n",
    "Solution: If a keyword is used as a variable name in Python, it will result in a syntax error. Keywords are reserved and have predefined meanings in the language. Python treats them as special tokens, and using them as variable names violates the language rules, leading to a syntax error during execution."
   ]
  },
  {
   "cell_type": "markdown",
   "id": "d1af67ba-e027-45e5-bc69-40d2cb30ae46",
   "metadata": {},
   "source": [
    "Q.5. For what purpose def keyword is used?\n",
    "\n",
    "Solution: The def keyword is used in Python to define a function (creates user defined functions) . When def is followed by a function name and a set of parentheses, it indicates the start of a function definition block. The subsequent indented code under the def statement defines the functionality and behavior of the function."
   ]
  },
  {
   "cell_type": "markdown",
   "id": "af32e944-1334-4ce2-a988-a5a254ef40ed",
   "metadata": {},
   "source": [
    "Q.6. What is the operation of this special character ‘\\’?\n",
    "\n",
    "Solution: The backslash character () is an escape character in Python. It is used to indicate special characters or sequences in strings. For example, \\n represents a newline character, \\t represents a tab character, and \" represents a double quote character. It allows the inclusion of characters that are not easily typable or have special meanings within strings."
   ]
  },
  {
   "cell_type": "markdown",
   "id": "cf6d76f8-5d23-4733-85d3-50aeb8edc59a",
   "metadata": {},
   "source": [
    "Q.7. Give an example of the following conditions:\n",
    "(i) Homogeneous list\n",
    "(ii) Heterogeneous set\n",
    "(iii) Homogeneous tuple\n",
    "\n",
    "Solution: (i) Homogeneous list: A homogeneous list is a list where all the elements are of the same data type. Here's an example of a homogeneous list of integers:"
   ]
  },
  {
   "cell_type": "code",
   "execution_count": null,
   "id": "080de1a0-8847-484c-8430-47349d95f3da",
   "metadata": {},
   "outputs": [],
   "source": [
    "#for example\n",
    "numbers = [1, 2, 3, 4, 5]"
   ]
  },
  {
   "cell_type": "markdown",
   "id": "54e7c06a-bdee-4276-8af7-a46878d58ec9",
   "metadata": {},
   "source": [
    "(ii) Heterogeneous set: A heterogeneous set is a set where the elements can be of different data types. Here's an example of a heterogeneous set:"
   ]
  },
  {
   "cell_type": "code",
   "execution_count": null,
   "id": "d2fcbfef-b4cf-4729-ab59-a11a4aa252e5",
   "metadata": {},
   "outputs": [],
   "source": [
    "#for example\n",
    "my_set = {1.25, 'mango', yes , 7.99 , 90}"
   ]
  },
  {
   "cell_type": "markdown",
   "id": "0930bb6b-3fde-4b78-ab03-d21cef5cc987",
   "metadata": {},
   "source": [
    "(iii) Homogeneous tuple: A homogeneous tuple is a tuple where all the elements are of the same data type. Here's an example of a homogeneous tuple of strings:"
   ]
  },
  {
   "cell_type": "code",
   "execution_count": null,
   "id": "62d004fa-0111-4181-9377-9c5853f2600a",
   "metadata": {},
   "outputs": [],
   "source": [
    "#for example\n",
    "colors = (\"red\" , \"blue\" , \"pink\" , \"black\" )"
   ]
  },
  {
   "cell_type": "markdown",
   "id": "9547cff2-a5f9-4b35-917b-e37c73e47d0e",
   "metadata": {},
   "source": [
    "Q.8. Explain the mutable and immutable data types with proper explanation & examples.\n",
    "\n",
    "Solution: The key difference between mutable and immutable data types is that mutable objects can be modified directly, while immutable objects cannot be changed after creation. Understanding mutability is crucial for avoiding unexpected side effects when working with data in Python.\n",
    "\n"
   ]
  },
  {
   "cell_type": "code",
   "execution_count": 7,
   "id": "6ed42f1e-cd81-4070-8739-f31e26892d3b",
   "metadata": {},
   "outputs": [
    {
     "name": "stdout",
     "output_type": "stream",
     "text": [
      "[1, 2, 3, 4, 5, 6]\n"
     ]
    }
   ],
   "source": [
    "#for example - mutable data types\n",
    "#list:\n",
    "list = [1,2,3,4,5]# so first we have a list with the values 1,2,3,4,5.\n",
    "list.append(6)# we added 6 by using append function.\n",
    "print(list)"
   ]
  },
  {
   "cell_type": "code",
   "execution_count": 8,
   "id": "b6c9cedf-18d2-4188-946c-2549dfed8c2a",
   "metadata": {},
   "outputs": [
    {
     "ename": "AttributeError",
     "evalue": "'tuple' object has no attribute 'remove'",
     "output_type": "error",
     "traceback": [
      "\u001b[0;31m---------------------------------------------------------------------------\u001b[0m",
      "\u001b[0;31mAttributeError\u001b[0m                            Traceback (most recent call last)",
      "Cell \u001b[0;32mIn [8], line 4\u001b[0m\n\u001b[1;32m      1\u001b[0m \u001b[38;5;66;03m#for example - immutable data types\u001b[39;00m\n\u001b[1;32m      2\u001b[0m \u001b[38;5;66;03m#tuples:\u001b[39;00m\n\u001b[1;32m      3\u001b[0m t \u001b[38;5;241m=\u001b[39m (\u001b[38;5;241m1\u001b[39m,\u001b[38;5;241m2\u001b[39m,\u001b[38;5;241m3\u001b[39m,\u001b[38;5;241m4\u001b[39m,\u001b[38;5;241m5\u001b[39m)\u001b[38;5;66;03m# here tuple contain 1,2,3,4,5 values.\u001b[39;00m\n\u001b[0;32m----> 4\u001b[0m \u001b[43mt\u001b[49m\u001b[38;5;241;43m.\u001b[39;49m\u001b[43mremove\u001b[49m(\u001b[38;5;241m4\u001b[39m)\u001b[38;5;66;03m# try to remove 4 from it.\u001b[39;00m\n\u001b[1;32m      5\u001b[0m \u001b[38;5;28mprint\u001b[39m(t)\n",
      "\u001b[0;31mAttributeError\u001b[0m: 'tuple' object has no attribute 'remove'"
     ]
    }
   ],
   "source": [
    "#for example - immutable data types\n",
    "#tuples:\n",
    "t = (1,2,3,4,5)# here tuple contain 1,2,3,4,5 values.\n",
    "t.remove(4)# try to remove 4 from it.\n",
    "print(t) # it is showing error."
   ]
  },
  {
   "cell_type": "markdown",
   "id": "4f291d28-30f5-4378-b720-c451b97b079c",
   "metadata": {},
   "source": [
    "Q.9. Write a code to create the given structure using only for loop.\n",
    "     *\n",
    "    ***\n",
    "   *****\n",
    "  *******\n",
    " *********\n",
    " \n",
    " Solution:"
   ]
  },
  {
   "cell_type": "code",
   "execution_count": 16,
   "id": "e519b0dc-5546-471f-8de9-9c275d6776ae",
   "metadata": {},
   "outputs": [
    {
     "name": "stdout",
     "output_type": "stream",
     "text": [
      "        * \n",
      "      * * * \n",
      "    * * * * * \n",
      "  * * * * * * * \n",
      "* * * * * * * * * \n"
     ]
    }
   ],
   "source": [
    "rows = 5\n",
    "\n",
    "for i in range(rows):\n",
    "    for j in range (i, rows-1 ):\n",
    "        print(\" \" ,end=\" \")\n",
    "    for k in range (i+1):\n",
    "        print(\"*\" ,end=\" \")\n",
    "    for l in range(i):\n",
    "        print(\"*\" ,end=\" \")\n",
    "    print()"
   ]
  },
  {
   "cell_type": "markdown",
   "id": "e2e99fc9-6751-467b-89fc-1e5222c23b30",
   "metadata": {},
   "source": [
    "Q.10. Write a code to create the given structure using while loop.\n",
    "|||||||||\n",
    " |||||||\n",
    "  |||||\n",
    "   |||\n",
    "    |\n",
    "    \n",
    "Solution:"
   ]
  },
  {
   "cell_type": "code",
   "execution_count": 19,
   "id": "78dd4146-b9a8-4f7c-83cd-dfaa9f7a6af0",
   "metadata": {},
   "outputs": [
    {
     "name": "stdout",
     "output_type": "stream",
     "text": [
      "  | | | | | | | | | \n",
      "    | | | | | | | \n",
      "      | | | | | \n",
      "        | | | \n",
      "          | \n"
     ]
    }
   ],
   "source": [
    "rows =5\n",
    "\n",
    "for i in range(rows):\n",
    "    for j in range(i+1):\n",
    "        print(\" \", end =\" \")\n",
    "    for k in range(i,rows):\n",
    "        print(\"|\", end= \" \")\n",
    "    for l in range(i, rows-1):\n",
    "        print(\"|\", end= \" \")\n",
    "    print()"
   ]
  }
 ],
 "metadata": {
  "kernelspec": {
   "display_name": "Python 3 (ipykernel)",
   "language": "python",
   "name": "python3"
  },
  "language_info": {
   "codemirror_mode": {
    "name": "ipython",
    "version": 3
   },
   "file_extension": ".py",
   "mimetype": "text/x-python",
   "name": "python",
   "nbconvert_exporter": "python",
   "pygments_lexer": "ipython3",
   "version": "3.10.6"
  }
 },
 "nbformat": 4,
 "nbformat_minor": 5
}
