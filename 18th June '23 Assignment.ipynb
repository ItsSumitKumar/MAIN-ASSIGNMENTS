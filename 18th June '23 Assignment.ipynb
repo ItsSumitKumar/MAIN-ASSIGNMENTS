{
 "cells": [
  {
   "cell_type": "markdown",
   "id": "5121897c-1356-4936-aa15-63c19d7ba9a1",
   "metadata": {},
   "source": [
    "1. What is the role of the 'else' block in a try-except statement? Provide an example scenario where it would be useful.\n",
    "\n",
    "Solution: The role of the else block in a try-except statement is to execute the code in the else block if there's no exception raised by the code in the try block.\n",
    "\n",
    "It would be useful when we want to execute some code if there's no exception raised by the code in the try block."
   ]
  },
  {
   "cell_type": "code",
   "execution_count": 1,
   "id": "dc3eb55b-d4db-4661-929a-6f5c33319d9f",
   "metadata": {},
   "outputs": [
    {
     "name": "stdin",
     "output_type": "stream",
     "text": [
      "Enter numerator 10\n",
      "Enter denominator 0\n"
     ]
    },
    {
     "name": "stdout",
     "output_type": "stream",
     "text": [
      "Divison by 0 is not possible\n"
     ]
    }
   ],
   "source": [
    "num1 = int(input(\"Enter numerator\"))\n",
    "num2 = int(input(\"Enter denominator\"))\n",
    "\n",
    "def Division(num1, num2):\n",
    "    try:\n",
    "        result = num1 / num2\n",
    "        \n",
    "    except ZeroDivisionError:\n",
    "        print(\"Divison by 0 is not possible\")\n",
    "        \n",
    "    else:\n",
    "        print(result)\n",
    "        \n",
    "Division(num1, num2)"
   ]
  },
  {
   "cell_type": "markdown",
   "id": "79985c2d-951a-4d1d-b1e9-dbae3b74689d",
   "metadata": {},
   "source": [
    "2. Can a try-except block be nested inside another try-except block? Explain with an example.\n",
    "\n",
    "Solution: Yes we can have nested try except blocks.\n",
    "\n",
    "I have shown the example in the below cell."
   ]
  },
  {
   "cell_type": "code",
   "execution_count": 2,
   "id": "fdae992b-806d-4e67-981e-3e3c0c9a3059",
   "metadata": {},
   "outputs": [
    {
     "name": "stdin",
     "output_type": "stream",
     "text": [
      "Enter the numerator:  10\n",
      "Enter the denominator:  5\n"
     ]
    },
    {
     "name": "stdout",
     "output_type": "stream",
     "text": [
      "The division result is: 2.0\n"
     ]
    }
   ],
   "source": [
    "try:\n",
    "    \n",
    "    numerator = int(input(\"Enter the numerator: \"))\n",
    "    denominator = int(input(\"Enter the denominator: \"))\n",
    "    \n",
    "    try:\n",
    "        result = numerator / denominator\n",
    "        print(\"The division result is:\", result)\n",
    "        \n",
    "    except ZeroDivisionError:\n",
    "        print(\"Cannot divide by zero.\")\n",
    "        \n",
    "except ValueError:\n",
    "    print(\"Invalid input. Please enter numeric values.\")"
   ]
  },
  {
   "cell_type": "markdown",
   "id": "7f8d166b-f224-49ef-9af6-204b24cdb006",
   "metadata": {},
   "source": [
    "3. How can you create a custom exception class in Python? Provide an example that demonstrates its usage.\n",
    "\n",
    "Solution: By deriving a new class from the default Exception class in Python, we can define our own exception types.\n",
    "\n",
    "I have shown in the below example."
   ]
  },
  {
   "cell_type": "code",
   "execution_count": 3,
   "id": "a4d5ae90-29a6-4b1b-8003-fb72adcddd9c",
   "metadata": {},
   "outputs": [
    {
     "name": "stdin",
     "output_type": "stream",
     "text": [
      "Enter the name of a girl:  mansi\n",
      "Enter the age of a girl:  20\n"
     ]
    },
    {
     "name": "stdout",
     "output_type": "stream",
     "text": [
      "mansi is eligible to marry by law\n"
     ]
    }
   ],
   "source": [
    "class WrongAgeError(Exception):\n",
    "    #this user defined exception is created to check whether is eligible to marry by law or not\n",
    "    pass\n",
    "\n",
    "n = 18\n",
    "\n",
    "try:\n",
    "    name = input(\"Enter the name of a girl: \")\n",
    "    age = int(input(\"Enter the age of a girl: \"))\n",
    "    if age > n:\n",
    "        print(f\"{name} is eligible to marry by law\")\n",
    "    else:\n",
    "        raise WrongAgeError\n",
    "        \n",
    "except WrongAgeError:\n",
    "    print(f\"{name} is not eligible to marry by law\")"
   ]
  },
  {
   "cell_type": "markdown",
   "id": "80df80e2-5ad2-4309-9883-d4f1400195fb",
   "metadata": {},
   "source": [
    "4. What are some common exceptions that are built-in to Python?\n",
    "\n",
    "Solution: \n",
    "\n",
    "Some common exceptions that are built-in to Python are:\n",
    "\n",
    "1. NameError - Raised when a local or global name is not found.\n",
    "\n",
    "2. ZeroDivisionError - Raised when the second operand of a division or modulo operation is zero.\n",
    "\n",
    "3. IndexError - Raised when a sequence subscript is out of range.\n",
    "\n",
    "4. ValueError - Raised when a built-in operation or function receives an argument that has the right type but an inappropriate value.\n",
    "\n",
    "5. TypeError - Raised when an operation or function is applied to an object of inappropriate type."
   ]
  },
  {
   "cell_type": "markdown",
   "id": "35c86cd5-c55c-4ae4-9ae9-5c85c4cbecbd",
   "metadata": {},
   "source": [
    "5. What is logging in Python, and why is it important in software development?\n",
    "\n",
    "Solution: \n",
    "\n",
    "1. Logging is a means or technique of tracking events that happen when some software runs.\n",
    "\n",
    "2. Logging is important for software developing, debugging, and running.\n",
    "\n",
    "3. If we don’t have any logging record and our program crashes, there are very few chances that we detect the cause of the problem. And if we detect the cause, it will consume a lot of time.\n",
    "\n",
    "4. With logging, we can leave a trail of breadcrumbs so that if something goes wrong, we can determine the cause of the problem."
   ]
  },
  {
   "cell_type": "markdown",
   "id": "cfb194db-00a9-4e86-91bb-77bebdbb587f",
   "metadata": {},
   "source": [
    "6. Explain the purpose of log levels in Python logging and provide examples of when each log level would be appropriate.\n",
    "\n",
    "Solution: \n",
    "1. DEBUG - Detailed information, typically of interest only when diagnosing problems.\n",
    "2. INFO - Confirmation that things are working as expected.\n",
    "3. WARNING - An indication that something unexpected happened, or indicative of some problem in the near future.\n",
    "4. ERROR - Due to a more serious problem, the software has not been able to perform some function.\n",
    "5. CRITICAL - A serious error, indicating that the program itself may be unable to continue running."
   ]
  },
  {
   "cell_type": "code",
   "execution_count": 1,
   "id": "81895a19-5598-44ee-8d72-84076615bf6e",
   "metadata": {},
   "outputs": [
    {
     "name": "stderr",
     "output_type": "stream",
     "text": [
      "DEBUG:root:This is a debug message\n"
     ]
    }
   ],
   "source": [
    "import logging\n",
    "\n",
    "logging.basicConfig(level=logging.DEBUG)\n",
    "\n",
    "logging.debug(\"This is a debug message\")"
   ]
  },
  {
   "cell_type": "code",
   "execution_count": 2,
   "id": "71096e1e-cf35-4c24-82bf-6c82b7797889",
   "metadata": {},
   "outputs": [
    {
     "name": "stderr",
     "output_type": "stream",
     "text": [
      "INFO:root:This is an info message\n"
     ]
    }
   ],
   "source": [
    "logging.basicConfig(level=logging.INFO)\n",
    "\n",
    "logging.info(\"This is an info message\")"
   ]
  },
  {
   "cell_type": "code",
   "execution_count": 3,
   "id": "9659f2fa-6613-4767-bcca-6e5bd6e32e17",
   "metadata": {},
   "outputs": [
    {
     "name": "stderr",
     "output_type": "stream",
     "text": [
      "WARNING:root:This is a warning message\n"
     ]
    }
   ],
   "source": [
    "logging.basicConfig(level=logging.WARNING)\n",
    "\n",
    "logging.warning(\"This is a warning message\")"
   ]
  },
  {
   "cell_type": "code",
   "execution_count": 4,
   "id": "d1e6b331-d277-488b-b6da-35cd96e980cf",
   "metadata": {},
   "outputs": [
    {
     "name": "stderr",
     "output_type": "stream",
     "text": [
      "ERROR:root:This is an error message\n"
     ]
    }
   ],
   "source": [
    "logging.basicConfig(level=logging.ERROR)\n",
    "\n",
    "logging.error(\"This is an error message\")"
   ]
  },
  {
   "cell_type": "code",
   "execution_count": 5,
   "id": "542bc0e3-5d1f-4e10-b6a0-4a0118721a7c",
   "metadata": {},
   "outputs": [
    {
     "name": "stderr",
     "output_type": "stream",
     "text": [
      "CRITICAL:root:This is a critical message\n"
     ]
    }
   ],
   "source": [
    "logging.basicConfig(level=logging.CRITICAL)\n",
    "\n",
    "logging.critical(\"This is a critical message\")"
   ]
  },
  {
   "cell_type": "markdown",
   "id": "b60ce9de-e62e-4f6b-9b29-772d7244e215",
   "metadata": {},
   "source": [
    "7. What are log formatters in Python logging, and how can you customise the log message format using formatters?\n",
    "\n",
    "Solution: Log formatters in Python logging are used to specify the format of the log messages. We can customise the log message format using formatters by specifying the format of the log messages in the basicConfig function.\n",
    "\n",
    "I have shown about the customization in the below cell."
   ]
  },
  {
   "cell_type": "code",
   "execution_count": 6,
   "id": "f1958480-0a43-499b-a764-fd73a2c0f3b2",
   "metadata": {},
   "outputs": [
    {
     "name": "stderr",
     "output_type": "stream",
     "text": [
      "DEBUG:root:This is a debug message\n"
     ]
    }
   ],
   "source": [
    "import logging\n",
    "\n",
    "logging.basicConfig(level=logging.DEBUG, format=\"%(asctime)s - %(levelname)s - %(message)s\")\n",
    "\n",
    "logging.debug(\"This is a debug message\")"
   ]
  },
  {
   "cell_type": "code",
   "execution_count": 7,
   "id": "1c4425f7-02b5-4aec-aeba-4a53d1c0f489",
   "metadata": {},
   "outputs": [
    {
     "name": "stderr",
     "output_type": "stream",
     "text": [
      "INFO:root:This is an info message\n"
     ]
    }
   ],
   "source": [
    "import logging\n",
    "\n",
    "logging.basicConfig(level=logging.INFO, format=\"%(asctime)s - %(levelname)s - %(message)s\")\n",
    "\n",
    "logging.info(\"This is an info message\")"
   ]
  },
  {
   "cell_type": "code",
   "execution_count": 8,
   "id": "9684c631-e148-47a9-9d56-895faa38bff3",
   "metadata": {},
   "outputs": [
    {
     "name": "stderr",
     "output_type": "stream",
     "text": [
      "WARNING:root:This is a warning message\n"
     ]
    }
   ],
   "source": [
    "import logging\n",
    "\n",
    "logging.basicConfig(level=logging.WARNING, format=\"%(asctime)s - %(levelname)s - %(message)s\")\n",
    "\n",
    "logging.warning(\"This is a warning message\")"
   ]
  },
  {
   "cell_type": "code",
   "execution_count": 9,
   "id": "df27c9ac-8585-40c2-8bbb-a96680f330cd",
   "metadata": {},
   "outputs": [
    {
     "name": "stderr",
     "output_type": "stream",
     "text": [
      "ERROR:root:This is an error message\n"
     ]
    }
   ],
   "source": [
    "import logging\n",
    "\n",
    "logging.basicConfig(level=logging.ERROR, format=\"%(asctime)s - %(levelname)s - %(message)s\")\n",
    "\n",
    "logging.error(\"This is an error message\")"
   ]
  },
  {
   "cell_type": "code",
   "execution_count": 10,
   "id": "e482b567-4080-4fd3-9897-93554cb3c60c",
   "metadata": {},
   "outputs": [
    {
     "name": "stderr",
     "output_type": "stream",
     "text": [
      "CRITICAL:root:This is a critical message\n"
     ]
    }
   ],
   "source": [
    "import logging\n",
    "\n",
    "logging.basicConfig(level=logging.CRITICAL, format=\"%(asctime)s - %(levelname)s - %(message)s\")\n",
    "\n",
    "logging.critical(\"This is a critical message\")\n"
   ]
  },
  {
   "cell_type": "markdown",
   "id": "5a60342a-067d-44cc-ba3e-945b87c159d4",
   "metadata": {},
   "source": [
    "8. How can you set up logging to capture log messages from multiple modules or classes in a Python application?\n",
    "\n",
    "Solution: "
   ]
  },
  {
   "cell_type": "code",
   "execution_count": 11,
   "id": "0a166858-b8e3-4495-a0da-978abd6b06b4",
   "metadata": {},
   "outputs": [
    {
     "name": "stderr",
     "output_type": "stream",
     "text": [
      "DEBUG:module1:Debug message in module1\n",
      "INFO:module1:Info message in module1\n",
      "WARNING:module1:Warning message in module1\n",
      "ERROR:module1:Error message in module1\n",
      "CRITICAL:module1:Critical message in module1\n",
      "DEBUG:module2:Debug message in module2\n",
      "INFO:module2:Info message in module2\n",
      "WARNING:module2:Warning message in module2\n",
      "ERROR:module2:Error message in module2\n",
      "CRITICAL:module2:Critical message in module2\n"
     ]
    }
   ],
   "source": [
    "import logging\n",
    "\n",
    "# Configure the root logger\n",
    "logging.basicConfig(level=logging.DEBUG, format='%(asctime)s - %(levelname)s - %(message)s')\n",
    "\n",
    "# Create a logger for each module or class\n",
    "logger_module1 = logging.getLogger('module1')\n",
    "logger_module2 = logging.getLogger('module2')\n",
    "\n",
    "# Example usage in module1\n",
    "def function_in_module1():\n",
    "    logger_module1.debug('Debug message in module1')\n",
    "    logger_module1.info('Info message in module1')\n",
    "    logger_module1.warning('Warning message in module1')\n",
    "    logger_module1.error('Error message in module1')\n",
    "    logger_module1.critical('Critical message in module1')\n",
    "\n",
    "# Example usage in module2\n",
    "def function_in_module2():\n",
    "    logger_module2.debug('Debug message in module2')\n",
    "    logger_module2.info('Info message in module2')\n",
    "    logger_module2.warning('Warning message in module2')\n",
    "    logger_module2.error('Error message in module2')\n",
    "    logger_module2.critical('Critical message in module2')\n",
    "\n",
    "# Logging messages from multiple modules or classes\n",
    "function_in_module1()\n",
    "function_in_module2()"
   ]
  },
  {
   "cell_type": "markdown",
   "id": "dad77ce9-e2a2-4934-a05c-1891ccd96e10",
   "metadata": {},
   "source": [
    "9. What is the difference between the logging and print statements in Python? When should you use logging over print statements in a real-world application?\n",
    "\n",
    "Solution: The difference between the logging and print statements in Python is that the logging statements are used to record the events that occur during the execution of a program, while the print statements are used to display the output of a program.\n",
    "\n",
    "We should use logging over print statements in a real-world application because logging is more flexible than print statements.\n",
    "\n",
    "We can configure the logging statements to record the events that occur during the execution of a program in a file, while the print statements can only display the output of a program on the console.\n",
    "    "
   ]
  },
  {
   "cell_type": "markdown",
   "id": "34d63e2d-57dc-4e23-a37f-cc94080856c9",
   "metadata": {},
   "source": [
    "10. Write a Python program that logs a message to a file named \"app.log\" with the\n",
    "following requirements:\n",
    "● The log message should be \"Hello, World!\"\n",
    "● The log level should be set to \"INFO.\"\n",
    "● The log file should append new log entries without overwriting previous ones.\n",
    "\n",
    "Solution: "
   ]
  },
  {
   "cell_type": "code",
   "execution_count": 12,
   "id": "2d45dfda-b35a-41ef-9b4f-f17ce0c19df7",
   "metadata": {},
   "outputs": [
    {
     "name": "stderr",
     "output_type": "stream",
     "text": [
      "INFO:root:Hello, World!\n"
     ]
    }
   ],
   "source": [
    "import logging\n",
    "\n",
    "logging.basicConfig(filename='app.log', level=logging.INFO, format='%(asctime)s - %(levelname)s - %(message)s')\n",
    "\n",
    "logging.info('Hello, World!')"
   ]
  },
  {
   "cell_type": "markdown",
   "id": "e3039f8c-b6f6-4715-96a2-9eb9b69087c9",
   "metadata": {},
   "source": [
    "11. Create a Python program that logs an error message to the console and a file named \"errors.log\" if an exception occurs during the program's execution. The error message should include the exception type and a timestamp.\n",
    "\n",
    "Solution: "
   ]
  },
  {
   "cell_type": "code",
   "execution_count": 13,
   "id": "607ce984-aa40-456d-a07a-6cc063cfbe7f",
   "metadata": {},
   "outputs": [
    {
     "name": "stderr",
     "output_type": "stream",
     "text": [
      "ERROR:root:ValueError: An error occurred.\n"
     ]
    }
   ],
   "source": [
    "import logging\n",
    "import datetime\n",
    "\n",
    "# Configure the logger\n",
    "logging.basicConfig(\n",
    "    level=logging.ERROR,\n",
    "    format='%(asctime)s - %(levelname)s - %(message)s',\n",
    "    handlers=[\n",
    "        logging.StreamHandler(),  # Output to console\n",
    "        logging.FileHandler('errors.log')  # Output to file\n",
    "    ]\n",
    ")\n",
    "\n",
    "try:\n",
    "    # Code that may raise an exception\n",
    "    # ...\n",
    "    raise ValueError(\"An error occurred.\")\n",
    "except Exception as e:\n",
    "    # Log the error message\n",
    "    logging.error(f\"{type(e).__name__}: {e}\")"
   ]
  }
 ],
 "metadata": {
  "kernelspec": {
   "display_name": "Python 3 (ipykernel)",
   "language": "python",
   "name": "python3"
  },
  "language_info": {
   "codemirror_mode": {
    "name": "ipython",
    "version": 3
   },
   "file_extension": ".py",
   "mimetype": "text/x-python",
   "name": "python",
   "nbconvert_exporter": "python",
   "pygments_lexer": "ipython3",
   "version": "3.10.6"
  }
 },
 "nbformat": 4,
 "nbformat_minor": 5
}
