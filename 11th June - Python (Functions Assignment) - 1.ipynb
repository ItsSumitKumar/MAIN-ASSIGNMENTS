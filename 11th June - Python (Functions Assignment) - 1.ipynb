{
 "cells": [
  {
   "cell_type": "markdown",
   "id": "02e48ea3-dcad-4090-b34f-38dc859158a7",
   "metadata": {},
   "source": [
    "1. What is a lambda function in Python, and how does it differ from a regular function?\n",
    "\n",
    "Solution: A lambda function in Python is a small, anonymous function that can take any number of arguments, but can only have one expression. It is defined using the lambda keyword, followed by the arguments and the expression, like this:\n",
    "\n",
    "lambda arguments: expression\n",
    "For example, a lambda function that adds two numbers would look like this:\n",
    "\n",
    "lambda x, y: x + y\n",
    "Lambda functions are typically used when there is a need of a simple function for a short period of time, and don't want to define a regular function. They are often used as arguments to higher-order functions (functions that take other functions as arguments), such as map, filter, and reduce.\n",
    "\n",
    "The main difference between a lambda function and a regular function is that a lambda function is anonymous and has no name. It also has a more limited syntax, as it can only have one expression. Regular functions, on the other hand, can have multiple statements and can be called by name."
   ]
  },
  {
   "cell_type": "markdown",
   "id": "cbea11ba-5d5d-47a8-a07a-809dacf172ed",
   "metadata": {},
   "source": [
    "2. Can a lambda function in Python have multiple arguments? If yes, how can you define and use them?\n",
    "\n",
    "Solution: Yes, a lambda function in Python can have multiple arguments, separated by commas. Here's an example:\n",
    "\n",
    "lambda x, y: x + y\n",
    "This lambda function takes two arguments x and y and returns their sum."
   ]
  },
  {
   "cell_type": "code",
   "execution_count": 1,
   "id": "a8c4c550-4898-4506-baa0-0e54bf3d60c7",
   "metadata": {},
   "outputs": [
    {
     "data": {
      "text/plain": [
       "3"
      ]
     },
     "execution_count": 1,
     "metadata": {},
     "output_type": "execute_result"
    }
   ],
   "source": [
    "sum = lambda x, y : x+y\n",
    "sum(1, 2)"
   ]
  },
  {
   "cell_type": "markdown",
   "id": "5fbb76b4-800f-48a5-abe6-31517a444718",
   "metadata": {},
   "source": [
    "3. How are lambda functions typically used in Python? Provide an example use case.\n",
    "\n",
    "Solution: Lambda functions are typically used in Python for short, simple functions that are only needed once and don't require a separate function definition. They are commonly used in functional programming and for data processing tasks such as filtering, mapping, and sorting.\n",
    "\n",
    "Here's an example use case of a lambda function for filtering a list of numbers:"
   ]
  },
  {
   "cell_type": "code",
   "execution_count": 3,
   "id": "55e02398-feab-4669-ac00-163839c16b90",
   "metadata": {},
   "outputs": [
    {
     "name": "stdout",
     "output_type": "stream",
     "text": [
      "Numbers list:  [1, 2, 3, 4, 5, 6, 7, 8, 9, 10]\n",
      "Even numbers:  [2, 4, 6, 8, 10]\n"
     ]
    }
   ],
   "source": [
    "Numbers = [1,2,3,4,5,6,7,8,9,10]\n",
    "print('Numbers list: ' ,Numbers)\n",
    "even_numbers = list(filter(lambda x : x % 2 == 0 , Numbers))\n",
    "print('Even numbers: ' , even_numbers)\n",
    "\n",
    "#This lambda function takes each number in the numbers list and \n",
    "#checks if it's even by using the modulo operator % to check if it's divisible by 2. \n",
    "#The filter function then returns a new list of only the even numbers."
   ]
  },
  {
   "cell_type": "markdown",
   "id": "c3c03395-bac1-45ff-a468-da90224fc152",
   "metadata": {},
   "source": [
    "4. What are the advantages and limitations of lambda functions compared to regular functions in Python?\n",
    "\n",
    "Solution: Lambda functions in Python have the advantage of being able to be defined in a single line of code, making them useful for simple operations that can be defined on the fly. They are also useful for functions that are only needed once and don't require a formal definition.\n",
    "\n",
    "However, lambda functions have some limitations compared to regular functions. They are limited to a single expression, which means they cannot contain multiple statements or control structures. They also lack the ability to include default arguments and annotations, which can be useful in more complex functions."
   ]
  },
  {
   "cell_type": "markdown",
   "id": "8a3ce6a6-b065-421c-ba0c-bf5dd76a9bc7",
   "metadata": {},
   "source": [
    "5. Are lambda functions in Python able to access variables defined outside of their own scope? Explain with an example.\n",
    "\n",
    "Solution: es, lambda functions in Python can access variables defined outside of their own scope. This is because lambda functions are closures, which means they can access variables in the enclosing lexical scope.\n",
    "\n",
    "___Here's an example:___"
   ]
  },
  {
   "cell_type": "code",
   "execution_count": 4,
   "id": "96b36a21-9d48-4b40-8853-c9947487967a",
   "metadata": {},
   "outputs": [
    {
     "name": "stdout",
     "output_type": "stream",
     "text": [
      "10\n",
      "15\n"
     ]
    }
   ],
   "source": [
    "def multiply_by(n):\n",
    "    return lambda x: x * n\n",
    "\n",
    "double = multiply_by(2)\n",
    "triple = multiply_by(3)\n",
    "\n",
    "print(double(5))   \n",
    "print(triple(5))   "
   ]
  },
  {
   "cell_type": "markdown",
   "id": "61532ac2-53b0-4e01-8818-4732f1acc758",
   "metadata": {},
   "source": [
    "In this example, multiply_by is a regular function that returns a lambda function. The lambda function takes a single argument x and multiplies it by the value of n, which is defined in the enclosing scope of multiply_by.\n",
    "\n",
    "When we call multiply_by(2), it returns a lambda function that multiplies its argument by 2. We assign this lambda function to the variable double. Similarly, when we call multiply_by(3), it returns a lambda function that multiplies its argument by 3. We assign this lambda function to the variable triple.\n",
    "\n",
    "When we call double(5), it executes the lambda function returned by multiply_by(2) with an argument of 5. The lambda function multiplies 5 by 2 (the value of n in the enclosing scope) and returns 10. Similarly, when we call triple(5), it executes the lambda function returned by multiply_by(3) with an argument of 5. The lambda function multiplies 5 by 3 (the value of n in the enclosing scope) and returns 15."
   ]
  },
  {
   "cell_type": "markdown",
   "id": "53467c19-f815-4aaf-ad59-28b76b038c84",
   "metadata": {},
   "source": [
    "6. Write a lambda function to calculate the square of a given number\n",
    "\n",
    "Solution: \n"
   ]
  },
  {
   "cell_type": "code",
   "execution_count": 5,
   "id": "a0b036fd-145c-442c-a88e-e5c1c5acae2a",
   "metadata": {},
   "outputs": [
    {
     "name": "stdin",
     "output_type": "stream",
     "text": [
      "Enter the Number:  15\n"
     ]
    },
    {
     "name": "stdout",
     "output_type": "stream",
     "text": [
      "225.0\n"
     ]
    }
   ],
   "source": [
    "Number = float(input('Enter the Number: '))\n",
    "square_number = lambda x: x**2\n",
    "print(square_number(Number))"
   ]
  },
  {
   "cell_type": "markdown",
   "id": "2e50f103-1c54-4d68-830c-50d75ee28f68",
   "metadata": {},
   "source": [
    "The above code takes a float input from the user and passes that to a lambda function that will return the square of the number that is printed later."
   ]
  },
  {
   "cell_type": "markdown",
   "id": "df22249d-4489-4d0c-85cb-1322c26e7e21",
   "metadata": {},
   "source": [
    "7. Create a lambda function to find the maximum value in a list of integers.\n",
    "\n",
    "Solution: \n"
   ]
  },
  {
   "cell_type": "code",
   "execution_count": 9,
   "id": "3be15115-f2a6-4d32-928d-1597569f625c",
   "metadata": {},
   "outputs": [
    {
     "name": "stdout",
     "output_type": "stream",
     "text": [
      "91\n"
     ]
    }
   ],
   "source": [
    "List = [91,27,3,4,50,63,7,84,9,10]\n",
    "maximum_value = lambda x : max(x)\n",
    "print(maximum_value(List))"
   ]
  },
  {
   "cell_type": "markdown",
   "id": "364ab38c-91cf-43f0-b7f3-a657054d02dd",
   "metadata": {},
   "source": [
    "8. Implement a lambda function to filter out all the even numbers from a list of integers.\n",
    "\n",
    "Solution:\n"
   ]
  },
  {
   "cell_type": "code",
   "execution_count": 1,
   "id": "3c922f18-a852-4c8b-8675-a6fb9a70ae1f",
   "metadata": {},
   "outputs": [
    {
     "name": "stdout",
     "output_type": "stream",
     "text": [
      "Numbers list:  [1, 2, 3, 4, 5, 6, 7, 8, 9, 10]\n",
      "Even numbers:  [2, 4, 6, 8, 10]\n"
     ]
    }
   ],
   "source": [
    "Numbers = [1,2,3,4,5,6,7,8,9,10]\n",
    "print('Numbers list: ' ,Numbers)\n",
    "even_numbers = list(filter(lambda x : x % 2 == 0 , Numbers))\n",
    "print('Even numbers: ' , even_numbers)\n"
   ]
  },
  {
   "cell_type": "markdown",
   "id": "38a73474-3645-423f-8e71-b4cdf5bfaccb",
   "metadata": {},
   "source": [
    "9. Write a lambda function to sort a list of strings in ascending order based on the length of each string.\n",
    "\n",
    "Solution: "
   ]
  },
  {
   "cell_type": "code",
   "execution_count": 3,
   "id": "4c97f1d6-aa82-485e-9710-5ee38156d393",
   "metadata": {},
   "outputs": [
    {
     "name": "stdout",
     "output_type": "stream",
     "text": [
      "['red', 'pink', 'blue', 'black', 'green']\n"
     ]
    }
   ],
   "source": [
    "Colors = [\"red\" , \"black\" , \"pink\" , \"blue\" , \"green\"]\n",
    "\n",
    "sort_by_length = lambda Colors :sorted(Colors, key=lambda x: len(x))\n",
    "\n",
    "print(sort_by_length(Colors))"
   ]
  },
  {
   "cell_type": "markdown",
   "id": "4c5faecb-e1f9-481e-bf5e-51f56985b2db",
   "metadata": {},
   "source": [
    "10. Create a lambda function that takes two lists as input and returns a new list containing the common elements between the two lists.\n",
    "\n",
    "Solution: "
   ]
  },
  {
   "cell_type": "code",
   "execution_count": 1,
   "id": "3fe2ebd2-2a13-497c-961c-ac062d04df8a",
   "metadata": {},
   "outputs": [
    {
     "name": "stdout",
     "output_type": "stream",
     "text": [
      "[3, 4, 5]\n"
     ]
    }
   ],
   "source": [
    "list1 = [1, 2, 3, 4, 5]\n",
    "list2 = [3, 4, 5, 6, 7]\n",
    "\n",
    "common_element = lambda lst1, lst2: list(filter(lambda x: x in lst2, lst1))\n",
    "\n",
    "print(common_element(list1, list2))"
   ]
  },
  {
   "cell_type": "markdown",
   "id": "48836df3-d9c9-4a6d-9c0d-504bd4bc7363",
   "metadata": {},
   "source": [
    "11. Write a recursive function to calculate the factorial of a given positive integer.\n",
    "\n",
    "Solution: "
   ]
  },
  {
   "cell_type": "code",
   "execution_count": 7,
   "id": "a98db45d-a59d-4cb8-a692-985b43027463",
   "metadata": {},
   "outputs": [
    {
     "name": "stdin",
     "output_type": "stream",
     "text": [
      "Enter any positive number:  5\n"
     ]
    },
    {
     "name": "stdout",
     "output_type": "stream",
     "text": [
      "5! = 120\n"
     ]
    }
   ],
   "source": [
    "def fact(num):\n",
    "    \n",
    "    if num == 0:\n",
    "        return 1\n",
    "    \n",
    "    return num * fact(num-1)\n",
    "\n",
    "input_num: int = int(input(\"Enter any positive number: \"))\n",
    "\n",
    "print(f'{input_num}! = {fact(input_num)}')"
   ]
  },
  {
   "cell_type": "markdown",
   "id": "d9b2c6fc-bdbf-4751-96d0-f92161d6eb3b",
   "metadata": {},
   "source": [
    "12. Implement a recursive function to compute the nth Fibonacci number\n",
    "\n",
    "Solution: "
   ]
  },
  {
   "cell_type": "code",
   "execution_count": 9,
   "id": "bce71d45-93fa-417e-a5a2-d57540ff0f34",
   "metadata": {},
   "outputs": [
    {
     "name": "stdin",
     "output_type": "stream",
     "text": [
      "Enter the position for Fibonacci series:  7\n"
     ]
    },
    {
     "name": "stdout",
     "output_type": "stream",
     "text": [
      "7th element of Fibonacci series is 13\n"
     ]
    }
   ],
   "source": [
    "def fib(n):\n",
    "\n",
    "    if n <= 1:\n",
    "        return n\n",
    "    \n",
    "    return fib(n-1) + fib(n-2)\n",
    "\n",
    "fib_pos: int = int(input('Enter the position for Fibonacci series: '))\n",
    "\n",
    "print(f'{fib_pos}th element of Fibonacci series is {fib(fib_pos)}')"
   ]
  },
  {
   "cell_type": "markdown",
   "id": "843c01b2-6208-482d-8c3f-8e030a4c56a5",
   "metadata": {},
   "source": [
    "13. Create a recursive function to find the sum of all the elements in a given list.\n",
    "\n",
    "Solution:"
   ]
  },
  {
   "cell_type": "code",
   "execution_count": 10,
   "id": "8e4b1493-6aab-4f28-9040-0d851ab4b72e",
   "metadata": {},
   "outputs": [
    {
     "data": {
      "text/plain": [
       "6"
      ]
     },
     "execution_count": 10,
     "metadata": {},
     "output_type": "execute_result"
    }
   ],
   "source": [
    "# sum if elements in a list\n",
    "\n",
    "def sum_list(lst):\n",
    "    if len(lst) == 0:\n",
    "        return 0\n",
    "    else:\n",
    "        return lst[0] + sum_list(lst[1:])\n",
    "\n",
    "my_list = [1, 2, 3]\n",
    "\n",
    "sum_list(my_list)"
   ]
  },
  {
   "cell_type": "markdown",
   "id": "7fb893f5-0378-4111-adc2-1e858667aa19",
   "metadata": {},
   "source": [
    "14. Write a recursive function to determine whether a given string is a palindrome.\n",
    "\n",
    "Solution: "
   ]
  },
  {
   "cell_type": "code",
   "execution_count": 12,
   "id": "385561fd-1ff4-4fb1-a320-707163002323",
   "metadata": {},
   "outputs": [
    {
     "name": "stdin",
     "output_type": "stream",
     "text": [
      "Enter a word to check palindrome:  sumit\n"
     ]
    },
    {
     "name": "stdout",
     "output_type": "stream",
     "text": [
      "sumit is not a Palindrome.\n"
     ]
    }
   ],
   "source": [
    "# check palindrome\n",
    "\n",
    "def check_palindrome(word):\n",
    "    # print(word)\n",
    "    if len(word) <= 1:\n",
    "        return True\n",
    "    else:\n",
    "        return word[0] == word[-1] and check_palindrome(word[1:-1])\n",
    "\n",
    "input_word: str = input('Enter a word to check palindrome: ').lower()\n",
    "\n",
    "if check_palindrome(input_word) == True:\n",
    "    print(f'{input_word} is a Palindrome.')\n",
    "else:\n",
    "    print(f'{input_word} is not a Palindrome.')"
   ]
  },
  {
   "cell_type": "markdown",
   "id": "288fce84-e804-4e37-9f9b-21a1d9ea3cd9",
   "metadata": {},
   "source": [
    "15. Implement a recursive function to find the greatest common divisor (GCD) of two positive integers.\n",
    "\n",
    "Solution: "
   ]
  },
  {
   "cell_type": "code",
   "execution_count": 13,
   "id": "62faed50-36c2-43c3-9444-b5e6dbf5ee77",
   "metadata": {},
   "outputs": [
    {
     "name": "stdin",
     "output_type": "stream",
     "text": [
      "Enter first number:  10\n",
      "Enter second number:  20\n"
     ]
    },
    {
     "name": "stdout",
     "output_type": "stream",
     "text": [
      "Greatest Common Divisor (GCD) = 10\n"
     ]
    }
   ],
   "source": [
    "def gcd(a, b):\n",
    "    if b == 0:\n",
    "        return a\n",
    "    else:\n",
    "        return gcd(b, a % b)\n",
    "\n",
    "a: int = int(input('Enter first number: '))\n",
    "b: int = int(input('Enter second number: '))\n",
    "\n",
    "gcd_of_a_b = gcd(a, b)\n",
    "\n",
    "print(f'Greatest Common Divisor (GCD) = {gcd_of_a_b}')"
   ]
  }
 ],
 "metadata": {
  "kernelspec": {
   "display_name": "Python 3 (ipykernel)",
   "language": "python",
   "name": "python3"
  },
  "language_info": {
   "codemirror_mode": {
    "name": "ipython",
    "version": 3
   },
   "file_extension": ".py",
   "mimetype": "text/x-python",
   "name": "python",
   "nbconvert_exporter": "python",
   "pygments_lexer": "ipython3",
   "version": "3.10.6"
  }
 },
 "nbformat": 4,
 "nbformat_minor": 5
}
