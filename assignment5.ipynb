{
 "cells": [
  {
   "cell_type": "markdown",
   "id": "f836f765-1e5f-4939-93d9-d7d5e53a5364",
   "metadata": {},
   "source": [
    "1. What does an empty dictionary's code look like?\n",
    "\n",
    "Solution: An empty dictionary is often represented by two empty curly brackets\n",
    "d = {} or d = dict()"
   ]
  },
  {
   "cell_type": "markdown",
   "id": "5d088fde-cc27-40c0-bc29-5558843c242b",
   "metadata": {},
   "source": [
    "2. What is the value of a dictionary value with the key 'foo' and the value 42?\n",
    "\n",
    "Solution: {'foo':42}"
   ]
  },
  {
   "cell_type": "markdown",
   "id": "6cf34277-c961-4ad5-8bb9-2d6509b0e307",
   "metadata": {},
   "source": [
    "3. What is the most significant distinction between a dictionary and a list?\n",
    "\n",
    "Solution: Dictionaries are represented by {} where as listed are represented by []\n",
    "The Items stored in a dictionary are Unordered , while the items in a list are ordered"
   ]
  },
  {
   "cell_type": "markdown",
   "id": "1604cfd2-1a1d-4f64-a08c-472a5d6b1847",
   "metadata": {},
   "source": [
    "4. What happens if you try to access spam['foo'] if spam is {'bar': 100}?\n",
    "\n",
    "Solution: we will get a keyError KeyError: 'foo'"
   ]
  },
  {
   "cell_type": "markdown",
   "id": "e28de530-7fd0-4838-bdf9-0e74af51e54c",
   "metadata": {},
   "source": [
    "5.if a dictionary is stored in spam,what is the difference between the expressions 'cat' in spam and 'cat' in spam.keys() ?\n",
    "\n",
    "Solution: There is no difference . The operator checks whether a value exits as a key in the dictionary or not"
   ]
  },
  {
   "cell_type": "markdown",
   "id": "57022d17-5f9d-4169-97f4-7c8c97ac13df",
   "metadata": {},
   "source": [
    "6.if a dictionary is stored in spam,what is the difference between the expressions 'cat' in spam and 'cat' in spam.values() ?\n",
    "\n",
    "Solution: :'cat' in spam checks whether there is a 'cat' key in the dictionary, while 'cat' in spam.values() checks whether there is a value 'cat' for one of the keys in spam."
   ]
  },
  {
   "cell_type": "markdown",
   "id": "8aef773e-c98b-4527-87e5-4ec25d83df77",
   "metadata": {},
   "source": [
    "7.what is a shortcut for the following code ?\n",
    "if 'color' not in spam: \n",
    "spam['color'] ='black'\n",
    "\n",
    "Solution: spam.setdefault('color','black')"
   ]
  },
  {
   "cell_type": "markdown",
   "id": "12268447-fcf8-430b-8ab2-a2cd6df9f2dc",
   "metadata": {},
   "source": [
    "8. How do you \"pretty print\" dictionary values using which module and function?\n",
    "\n",
    "Solution: we can pretty print a dictionary using three functions\n",
    "\n",
    "1. by using pprint() function of pprint module\n",
    "    Note: pprint() function doesnot prettify nested dictionaries\n",
    "2. by using dumps() method of json module\n",
    "3. by using dump() method of yaml module"
   ]
  },
  {
   "cell_type": "code",
   "execution_count": 12,
   "id": "d4d6feea-be36-4ec9-9bd3-386fcdf2f820",
   "metadata": {},
   "outputs": [
    {
     "name": "stdout",
     "output_type": "stream",
     "text": [
      "Printing using print() function\n",
      " [{'Name': 'John', 'Age': '23', 'Residence': {'Country': 'USA', 'City': 'New York'}}, {'Name': 'Jose', 'Age': '44', 'Residence': {'Country': 'Spain', 'City': 'Madrid'}}, {'Name': 'Anne', 'Age': '29', 'Residence': {'Country': 'UK', 'City': 'England'}}, {'Name': 'Lee', 'Age': '35', 'Residence': {'Country': 'Japan', 'City': 'Osaka'}}]\n",
      "----------------------------------------------------------------------\n",
      "Printing using pprint() function\n",
      "[{'Age': '23',\n",
      "  'Name': 'John',\n",
      "  'Residence': {'City': 'New York', 'Country': 'USA'}},\n",
      " {'Age': '44',\n",
      "  'Name': 'Jose',\n",
      "  'Residence': {'City': 'Madrid', 'Country': 'Spain'}},\n",
      " {'Age': '29',\n",
      "  'Name': 'Anne',\n",
      "  'Residence': {'City': 'England', 'Country': 'UK'}},\n",
      " {'Age': '35',\n",
      "  'Name': 'Lee',\n",
      "  'Residence': {'City': 'Osaka', 'Country': 'Japan'}}]\n",
      "----------------------------------------------------------------------\n",
      "Printing using json dumps() function\n",
      " [\n",
      "    {\n",
      "        \"Name\": \"John\",\n",
      "        \"Age\": \"23\",\n",
      "        \"Residence\": {\n",
      "            \"Country\": \"USA\",\n",
      "            \"City\": \"New York\"\n",
      "        }\n",
      "    },\n",
      "    {\n",
      "        \"Name\": \"Jose\",\n",
      "        \"Age\": \"44\",\n",
      "        \"Residence\": {\n",
      "            \"Country\": \"Spain\",\n",
      "            \"City\": \"Madrid\"\n",
      "        }\n",
      "    },\n",
      "    {\n",
      "        \"Name\": \"Anne\",\n",
      "        \"Age\": \"29\",\n",
      "        \"Residence\": {\n",
      "            \"Country\": \"UK\",\n",
      "            \"City\": \"England\"\n",
      "        }\n",
      "    },\n",
      "    {\n",
      "        \"Name\": \"Lee\",\n",
      "        \"Age\": \"35\",\n",
      "        \"Residence\": {\n",
      "            \"Country\": \"Japan\",\n",
      "            \"City\": \"Osaka\"\n",
      "        }\n",
      "    }\n",
      "]\n",
      "Printing using yaml dump() function\n",
      " - Age: '23'\n",
      "  Name: John\n",
      "  Residence:\n",
      "    City: New York\n",
      "    Country: USA\n",
      "- Age: '44'\n",
      "  Name: Jose\n",
      "  Residence:\n",
      "    City: Madrid\n",
      "    Country: Spain\n",
      "- Age: '29'\n",
      "  Name: Anne\n",
      "  Residence:\n",
      "    City: England\n",
      "    Country: UK\n",
      "- Age: '35'\n",
      "  Name: Lee\n",
      "  Residence:\n",
      "    City: Osaka\n",
      "    Country: Japan\n",
      "\n"
     ]
    }
   ],
   "source": [
    "ndict = [\n",
    "  {'Name': 'John', 'Age': '23', 'Residence': {'Country':'USA', 'City': 'New York'}},\n",
    "  {'Name': 'Jose', 'Age': '44', 'Residence': {'Country':'Spain', 'City': 'Madrid'}},\n",
    "  {'Name': 'Anne', 'Age': '29', 'Residence': {'Country':'UK', 'City': 'England'}},\n",
    "  {'Name': 'Lee', 'Age': '35', 'Residence': {'Country':'Japan', 'City': 'Osaka'}}\n",
    "]\n",
    "\n",
    "print(\"Printing using print() function\\n\" , ndict)\n",
    "print(\"-\"*70)\n",
    "import pprint\n",
    "print(\"Printing using pprint() function\")\n",
    "pprint.pprint(ndict)\n",
    "print(\"-\"*70)\n",
    "import json\n",
    "dumps1 = json.dumps(ndict , indent = 4)\n",
    "print(\"Printing using json dumps() function\\n\" , dumps1)\n",
    "import yaml\n",
    "dumps2 = yaml.dump(ndict)\n",
    "print(\"Printing using yaml dump() function\\n\" , dumps2)"
   ]
  }
 ],
 "metadata": {
  "kernelspec": {
   "display_name": "Python 3 (ipykernel)",
   "language": "python",
   "name": "python3"
  },
  "language_info": {
   "codemirror_mode": {
    "name": "ipython",
    "version": 3
   },
   "file_extension": ".py",
   "mimetype": "text/x-python",
   "name": "python",
   "nbconvert_exporter": "python",
   "pygments_lexer": "ipython3",
   "version": "3.10.6"
  }
 },
 "nbformat": 4,
 "nbformat_minor": 5
}
