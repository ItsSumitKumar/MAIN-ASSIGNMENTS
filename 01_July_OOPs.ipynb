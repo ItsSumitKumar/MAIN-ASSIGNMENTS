{
 "cells": [
  {
   "cell_type": "markdown",
   "id": "41c4f365-116a-4984-83fc-5c39f6978981",
   "metadata": {},
   "source": [
    "1. What is the primary goal of Object-Oriented Programming (OOP)?\n",
    "\n",
    "Solution: The primary goal of Object-Oriented Programming (OOP) is:\n",
    "\n",
    "1. To make the development and maintenance of projects more effortless.\n",
    "2. To provide the feature of data hiding that is good for security concerns.\n",
    "3. We can solve real-world problems if we are using object-oriented programming.\n",
    "4. It ensures code reusability.\n",
    "5. It lets us write generic code: which will work with a range of data, so we don’t have to write basic stuff over and over again."
   ]
  },
  {
   "cell_type": "markdown",
   "id": "4444cd58-eb12-428b-8126-de1fccfca6c8",
   "metadata": {},
   "source": [
    "2. What is an object in Python?\n",
    "\n",
    "Solution: \n",
    "It is a basic unit of Object-Oriented Programming and represents the real-life entities.\n",
    "\n",
    "An Object is an instance of a Class. When a class is defined, no memory is allocated but when it is instantiated (i.e. an object is created) memory is allocated.\n",
    "\n",
    "An object has an identity, state, and behavior.\n",
    "\n",
    "Each object contains data and code to manipulate the data.\n",
    "\n",
    "Objects can interact without having to know details of each other’s data or code, it is sufficient to know the type of message accepted and type of response returned by the objects."
   ]
  },
  {
   "cell_type": "markdown",
   "id": "c39824c9-d49f-4eb0-a761-412515259b9a",
   "metadata": {},
   "source": [
    "Q3. What is a class in Python?\n",
    "\n",
    "solution:\n",
    "A class is a user-defined data type.\n",
    "\n",
    "It consists of data members and member functions, which can be accessed and used by creating an instance of that class.\n",
    "\n",
    "It represents the set of properties or methods that are common to all objects of one type.\n",
    "\n",
    "A class is like a blueprint for an object."
   ]
  },
  {
   "cell_type": "markdown",
   "id": "d6e5af1e-aaab-47db-a8cd-aba71c892ab6",
   "metadata": {},
   "source": [
    "4. What are attributes and methods in a class?\n",
    "\n",
    "Solution: In object-oriented programming, attributes and methods are important concepts related to classes. Let's define each term:\n",
    "\n",
    "=> Attributes:\n",
    "Attributes, also known as object variables or instance variables are essentially variables that store information about the object's state.\n",
    "\n",
    "Attributes define the properties or characteristics of an object.\n",
    "\n",
    "For example, in a class representing a Bank Account, attributes could include its account holder name, amount, bank account number. Each instance of the class (object) can have different values for these attributes.\n",
    "\n",
    "=> Methods:\n",
    "Methods, also known as object or instance functions represent the actions that objects of a class can perform.\n",
    "\n",
    "Methods operate on the attributes of an object and can modify their values or perform some computation based on them.\n",
    "\n",
    "For example, in the Bank Account class, methods could include amount deposit, amount withdrawl, transaction etc."
   ]
  },
  {
   "cell_type": "markdown",
   "id": "a46c81f8-1f40-4740-b4fd-22e47cb45bc9",
   "metadata": {},
   "source": [
    "5. What is the difference between class variables and instance variables in Python?\n",
    "\n",
    "SOlution: Class variables are the variables that are shared by all the objects of a class.\n",
    "\n",
    "Instance variables are the variables that are unique to each object of a class.\n",
    "\n",
    "For Example:"
   ]
  },
  {
   "cell_type": "code",
   "execution_count": 2,
   "id": "b258a08a-447b-4c44-805c-406e503b9970",
   "metadata": {},
   "outputs": [
    {
     "name": "stdout",
     "output_type": "stream",
     "text": [
      "Larsen & Toubro\n",
      "Larsen & Toubro\n"
     ]
    }
   ],
   "source": [
    "class Employee:\n",
    "    company_name = \"Larsen & Toubro\"    #class variable\n",
    "    \n",
    "    def __init__(self, firstname, lastname):\n",
    "        self.firstname = firstname     #object or instance variable\n",
    "        self.lastname = lastname\n",
    "        \n",
    "emp1 = Employee(\"shreyanshu\", \"pachauri\")\n",
    "emp2 = Employee(\"shruti\", \"pachauri\")\n",
    "\n",
    "print(emp1.company_name)\n",
    "print(emp2.company_name)\n",
    "\n",
    "\n",
    "#here company name is class variable as it is shared by all the instances of the class.\n",
    "#while firstname and lastname are the instances variables as they are unique for every instances."
   ]
  },
  {
   "cell_type": "markdown",
   "id": "16a6cf84-41ba-4164-b2ac-6ea81faf44b8",
   "metadata": {},
   "source": [
    "6. What is the purpose of the self parameter in Python class methods?\n",
    "\n",
    "Solution: In Python, the self parameter is a conventional name used to refer to the instance of a class within its methods.\n",
    "\n",
    "It acts as a reference to the instance itself, allowing the methods to access and modify its attributes.\n",
    "\n",
    "When defining a class method in Python, you need to include self as the first parameter in the method's definition.\n",
    "\n"
   ]
  },
  {
   "cell_type": "code",
   "execution_count": 3,
   "id": "e9eaaf43-449b-4265-8d2d-6f85b6d9b1a5",
   "metadata": {},
   "outputs": [
    {
     "name": "stdout",
     "output_type": "stream",
     "text": [
      "Hello, my name is Sumit and I'm 21 years old.\n"
     ]
    }
   ],
   "source": [
    "class Person:\n",
    "    def __init__(self, name, age):\n",
    "        self.name = name\n",
    "        self.age = age\n",
    "\n",
    "    def greet(self):\n",
    "        print(f\"Hello, my name is {self.name} and I'm {self.age} years old.\")\n",
    "\n",
    "person = Person(\"Sumit\", 21)\n",
    "\n",
    "person.greet()        # Here, self refers to the person object"
   ]
  },
  {
   "cell_type": "markdown",
   "id": "9b0c44cf-41c8-4952-a6e0-5543532f54cd",
   "metadata": {},
   "source": [
    "7. For a library management system, you have to design the \"Book\" class with OOP principles in mind. The “Book” class will have following attributes:\n",
    "a. title: Represents the title of the book.\n",
    "b. author: Represents the author(s) of the book.\n",
    "c. isbn: Represents the ISBN (International Standard Book Number) of the book.\n",
    "d. publication_year: Represents the year of publication of the book.\n",
    "e. available_copies: Represents the number of copies available for checkout.\n",
    "The class will also include the following methods:\n",
    "a. check_out(self): Decrements the available copies by one if there are copies\n",
    "available for checkout.\n",
    "b. return_book(self): Increments the available copies by one when a book is\n",
    "returned.\n",
    "c. display_book_info(self): Displays the information about the book, including its\n",
    "attributes and the number of available copies.\n",
    "\n",
    "Solution: "
   ]
  },
  {
   "cell_type": "code",
   "execution_count": 21,
   "id": "69cc48be-99f3-474b-ae17-fc01fed6f24c",
   "metadata": {},
   "outputs": [],
   "source": [
    "class Book:\n",
    "    def __init__(self,title,author,isbn,publication_year,available_copies):\n",
    "        self.title=title\n",
    "        self.author=author\n",
    "        self.isbn=isbn\n",
    "        self.publication_year=publication_year\n",
    "        self.available_copies=available_copies\n",
    "        \n",
    "    def check_out(self):\n",
    "        if self.available_copies != 0:                  \n",
    "            self.available_copies -= 1\n",
    "            \n",
    "    def return_book(self):\n",
    "        self.available_copies += 1\n",
    "        \n",
    "    def display_book_info(self):\n",
    "        dict1 = {\"Title\" : self.title, \"Author\" : self.author, \"International Standard Book Number\" : self.isbn, \\\n",
    "                \"Publication year\" : self.publication_year, \"Available Copies\" : self.available_copies}\n",
    "        for key, value in dict1.items():\n",
    "            print(f\"{key}: {value}\")\n",
    "            "
   ]
  },
  {
   "cell_type": "code",
   "execution_count": 22,
   "id": "c1781202-1b98-4073-b0b9-4cf0be8db72e",
   "metadata": {},
   "outputs": [
    {
     "name": "stdout",
     "output_type": "stream",
     "text": [
      "Title: Atomic_Habits\n",
      "Author: james_clear\n",
      "International Standard Book Number: 41831\n",
      "Publication year: 2018\n",
      "Available Copies: 100\n"
     ]
    }
   ],
   "source": [
    "book1=Book(\"Atomic_Habits\",\"james_clear\",41831,2018,100)\n",
    "book1.display_book_info()"
   ]
  },
  {
   "cell_type": "code",
   "execution_count": 23,
   "id": "9265de06-989f-4867-a25e-ac90e7092a40",
   "metadata": {},
   "outputs": [
    {
     "name": "stdout",
     "output_type": "stream",
     "text": [
      "Title: Atomic_Habits\n",
      "Author: james_clear\n",
      "International Standard Book Number: 41831\n",
      "Publication year: 2018\n",
      "Available Copies: 99\n"
     ]
    }
   ],
   "source": [
    "book1.check_out()\n",
    "book1.display_book_info()"
   ]
  },
  {
   "cell_type": "code",
   "execution_count": 24,
   "id": "626b385f-5243-4d00-bf3f-066d560ab6ff",
   "metadata": {},
   "outputs": [
    {
     "name": "stdout",
     "output_type": "stream",
     "text": [
      "Title: Atomic_Habits\n",
      "Author: james_clear\n",
      "International Standard Book Number: 41831\n",
      "Publication year: 2018\n",
      "Available Copies: 100\n"
     ]
    }
   ],
   "source": [
    "book1.return_book()\n",
    "book1.display_book_info()"
   ]
  },
  {
   "cell_type": "markdown",
   "id": "dd4535e0-59c7-4a4e-892f-be2931fc2227",
   "metadata": {},
   "source": [
    "8. For a ticket booking system, you have to design the \"Ticket\" class with OOP principles in mind. The “Ticket” class should have the following attributes:\n",
    "a. ticket_id: Represents the unique identifier for the ticket.\n",
    "b. event_name: Represents the name of the event.\n",
    "c. event_date: Represents the date of the event.\n",
    "d. venue: Represents the venue of the event.\n",
    "e. seat_number: Represents the seat number associated with the ticket.\n",
    "f. price: Represents the price of the ticket.\n",
    "g. is_reserved: Represents the reservation status of the ticket.\n",
    "The class also includes the following methods:\n",
    "a. reserve_ticket(self): Marks the ticket as reserved if it is not already reserved.\n",
    "b. cancel_reservation(self): Cancels the reservation of the ticket if it is already reserved.\n",
    "c. display_ticket_info(self): Displays the information about the ticket, including its attributes and reservation status.\n",
    "\n",
    "Solution:"
   ]
  },
  {
   "cell_type": "code",
   "execution_count": 38,
   "id": "ec04c901-7112-4d3e-925b-d7bd029323d3",
   "metadata": {},
   "outputs": [],
   "source": [
    "class Ticket:\n",
    "    def __init__(self,ticket_id,event_name,event_date,venue,seat_number,price,is_reserved):\n",
    "        self.ticket_id=ticket_id\n",
    "        self.event_name=event_name\n",
    "        self.event_date=event_date\n",
    "        self.venue=venue\n",
    "        self.seat_number=seat_number\n",
    "        self.price=price\n",
    "        self.is_reserved=is_reserved\n",
    "        \n",
    "    def reserve_ticket(self):\n",
    "        self.is_reserved = \"TICKET CONFIRMED\"\n",
    "        \n",
    "    def cancel_reservation(self):\n",
    "        self.is_reserved = \"TICKET CANCELLED\"\n",
    "        \n",
    "    def display_ticket_info(self,name):\n",
    "        self.name=name\n",
    "        dict1 = {\"Passenger Name\" : self.name, \"Ticket ID\" : self.ticket_id, \"Event name\" : self.event_name, \\\n",
    "                 \"Event date\" : self.event_date, \"Venue of Event\" : self.venue, \"Seat Number\" : self.seat_number, \\\n",
    "                 \"Price of ticket\" : self.price, \"Reservation Status\" : self.is_reserved}\n",
    "        for key, value in dict1.items():\n",
    "            print(f\"{key}: {value}\")"
   ]
  },
  {
   "cell_type": "code",
   "execution_count": 41,
   "id": "d323855c-6c95-47a0-be3d-7ad5f416d488",
   "metadata": {},
   "outputs": [
    {
     "name": "stdout",
     "output_type": "stream",
     "text": [
      "Passenger Name: Sumit Kumar\n",
      "Ticket ID: 123ABC\n",
      "Event name: TEEJ\n",
      "Event date: 19-08-2023\n",
      "Venue of Event: Kaithal\n",
      "Seat Number: 47\n",
      "Price of ticket: 500\n",
      "Reservation Status: TICKET CONFIRMED\n"
     ]
    }
   ],
   "source": [
    "passenger1 = Ticket(\"123ABC\", \"TEEJ\", \"19-08-2023\" , \"Kaithal\", 47, 500, \"None\")\n",
    "passenger1.reserve_ticket()\n",
    "passenger1.display_ticket_info(\"Sumit Kumar\")\n"
   ]
  },
  {
   "cell_type": "code",
   "execution_count": 42,
   "id": "8acc8136-799c-4fb0-a6fc-059324ec97e7",
   "metadata": {},
   "outputs": [
    {
     "name": "stdout",
     "output_type": "stream",
     "text": [
      "Passenger Name: Tarun Kumar\n",
      "Ticket ID: 789XYZ\n",
      "Event name: Rakshabandhan\n",
      "Event date: 30-08-2023\n",
      "Venue of Event: Kaithal\n",
      "Seat Number: 1\n",
      "Price of ticket: 350\n",
      "Reservation Status: TICKET CANCELLED\n"
     ]
    }
   ],
   "source": [
    "passenger2 = Ticket(\"789XYZ\", \"Rakshabandhan\", \"30-08-2023\" , \"Kaithal\", 1, 350 , \"None\")\n",
    "passenger2.cancel_reservation()\n",
    "passenger2.display_ticket_info(\"Tarun Kumar\")"
   ]
  },
  {
   "cell_type": "markdown",
   "id": "94ebca12-20b2-4db4-8dc4-b01898795586",
   "metadata": {},
   "source": [
    "9. You are creating a shopping cart for an e-commerce website. Using OOP to model the \"ShoppingCart\" functionality the class should contain following attributes and methods:\n",
    "a. items: Represents the list of items in the shopping cart.\n",
    "The class also includes the following methods:\n",
    "a. add_item(self, item): Adds an item to the shopping cart by appending it to the list of items.\n",
    "b. remove_item(self, item): Removes an item from the shopping cart if it exists in the list.\n",
    "c. view_cart(self): Displays the items currently present in the shopping cart.\n",
    "d. clear_cart(self): Clears all items from the shopping cart by reassigning an empty list to the items attribute.\n",
    "\n",
    "Solution: "
   ]
  },
  {
   "cell_type": "code",
   "execution_count": 43,
   "id": "c8ec76ce-fb32-4fe4-9cfa-1a8663c4c4ae",
   "metadata": {},
   "outputs": [],
   "source": [
    "class ShoppingCart:\n",
    "    def __init__(self,items):\n",
    "        self.items=items\n",
    "        \n",
    "    def add_item(self, item):\n",
    "        self.items.append(item)\n",
    "        \n",
    "    def remove_item(self, item):\n",
    "        self.items.remove(item)\n",
    "        \n",
    "    def view_cart(self):\n",
    "        list1 = self.items\n",
    "        if len(list1) == 0:\n",
    "            print(\"Your shopping cart is empty\")\n",
    "        \n",
    "        else:\n",
    "            print(\"The list of the shopping cart consists of the following items\")\n",
    "            for i in list1:\n",
    "                print(i)\n",
    "                \n",
    "    def clear_cart(self):\n",
    "        self.items=[]\n",
    "            \n",
    "        "
   ]
  },
  {
   "cell_type": "code",
   "execution_count": 53,
   "id": "8143cba5-8045-4cd3-8cfe-262c8206e526",
   "metadata": {},
   "outputs": [
    {
     "name": "stdout",
     "output_type": "stream",
     "text": [
      "The list of the shopping cart consists of the following items\n",
      "books\n",
      "bread\n",
      "butter\n",
      "milk\n",
      "shoes\n"
     ]
    }
   ],
   "source": [
    "cart1 = ShoppingCart([\"books\",\"bread\",\"butter\",\"milk\",\"shoes\"])\n",
    "cart1.view_cart()"
   ]
  },
  {
   "cell_type": "code",
   "execution_count": 54,
   "id": "4d0fd598-492d-4ef4-962d-2286c556d1ce",
   "metadata": {},
   "outputs": [
    {
     "name": "stdout",
     "output_type": "stream",
     "text": [
      "The list of the shopping cart consists of the following items\n",
      "books\n",
      "bread\n",
      "butter\n",
      "milk\n",
      "shoes\n",
      "pen\n",
      "highlighter\n"
     ]
    }
   ],
   "source": [
    "cart1.add_item(\"pen\")\n",
    "cart1.add_item(\"highlighter\")\n",
    "cart1.view_cart()"
   ]
  },
  {
   "cell_type": "code",
   "execution_count": 55,
   "id": "a587442c-c784-45cb-8449-482419291331",
   "metadata": {},
   "outputs": [
    {
     "name": "stdout",
     "output_type": "stream",
     "text": [
      "The list of the shopping cart consists of the following items\n",
      "books\n",
      "bread\n",
      "butter\n",
      "milk\n",
      "pen\n",
      "highlighter\n"
     ]
    }
   ],
   "source": [
    "cart1.remove_item(\"shoes\")\n",
    "cart1.view_cart()"
   ]
  },
  {
   "cell_type": "code",
   "execution_count": 57,
   "id": "9535de3c-17c3-45b6-84da-f44ec47d2155",
   "metadata": {},
   "outputs": [
    {
     "name": "stdout",
     "output_type": "stream",
     "text": [
      "Your shopping cart is empty\n"
     ]
    }
   ],
   "source": [
    "cart1.clear_cart()\n",
    "cart1.view_cart()"
   ]
  },
  {
   "cell_type": "markdown",
   "id": "a45a4fb6-e088-4530-847a-130ab11312e4",
   "metadata": {},
   "source": [
    "10. Imagine a school management system. You have to design the \"Student\" class using OOP concepts.The “Student” class has the following attributes:\n",
    "a. name: Represents the name of the student.\n",
    "b. age: Represents the age of the student.\n",
    "c. grade: Represents the grade or class of the student.\n",
    "d. student_id: Represents the unique identifier for the student.\n",
    "e. attendance: Represents the attendance record of the student.\n",
    "The class should also include the following methods:\n",
    "a. update_attendance(self, date, status): Updates the attendance record of the student for a given date with the provided status (e.g., present or absent).\n",
    "b. get_attendance(self): Returns the attendance record of the student.\n",
    "c. get_average_attendance(self): Calculates and returns the average attendance percentage of the student based on their attendance record.\n",
    "\n",
    "Solution:\n"
   ]
  },
  {
   "cell_type": "code",
   "execution_count": 70,
   "id": "5fc3b82a-1801-448f-ac5a-f8193036fbd8",
   "metadata": {},
   "outputs": [],
   "source": [
    "class Student:\n",
    "    def __init__(self,name,age,grade,student_id,total_classes_conducted,attendance):\n",
    "        self.name=name\n",
    "        self.age=age\n",
    "        self.grade=grade\n",
    "        self.student_id=student_id\n",
    "        self.total_classes_conducted = total_classes_conducted\n",
    "        self.attendance=attendance\n",
    "        \n",
    "    def update_attendance(self, date, status):\n",
    "        if status ==\"PRESENT\":\n",
    "            self.total_classes_conducted += 1\n",
    "            self.attendance += 1\n",
    "        else:\n",
    "            self.total_classes_conducted += 1\n",
    "            self.attendance += 0\n",
    "            \n",
    "    def get_attendance(self):\n",
    "        dict1 = {\"Name\" : self.name, \"Age\" : self.age, \"Grade\" : self.grade, \"Student ID\" : self.student_id, \\\n",
    "                 \"Total Number of Classes Conducted\" : self.total_classes_conducted, \\\n",
    "                 \"Total Attendance\" : self.attendance}\n",
    "        for key, value in dict1.items():\n",
    "            print(f\"{key}: {value}\")\n",
    "            \n",
    "    def get_average_attendance(self):\n",
    "        average_attendance = (self.attendance / self.total_classes_conducted) * 100\n",
    "        print(f\"The average attendance of {self.name} is {average_attendance} %\")  \n",
    "        "
   ]
  },
  {
   "cell_type": "code",
   "execution_count": 71,
   "id": "77fe9e2f-6077-491a-8639-f5aa1ba480b2",
   "metadata": {},
   "outputs": [
    {
     "name": "stdout",
     "output_type": "stream",
     "text": [
      "Name: Sumit\n",
      "Age: 21\n",
      "Grade: A\n",
      "Student ID: X1234\n",
      "Total Number of Classes Conducted: 116\n",
      "Total Attendance: 100\n"
     ]
    }
   ],
   "source": [
    "student1 = Student(\"Sumit\",21,\"A\",\"X1234\",116,100)\n",
    "student1.get_attendance()"
   ]
  },
  {
   "cell_type": "code",
   "execution_count": 72,
   "id": "923eda31-09f3-49b7-9a02-36312ba3f55f",
   "metadata": {},
   "outputs": [
    {
     "name": "stdout",
     "output_type": "stream",
     "text": [
      "Name: Sumit\n",
      "Age: 21\n",
      "Grade: A\n",
      "Student ID: X1234\n",
      "Total Number of Classes Conducted: 117\n",
      "Total Attendance: 101\n"
     ]
    }
   ],
   "source": [
    "student1.update_attendance(\"19-08-2023\",\"PRESENT\")\n",
    "student1.get_attendance()"
   ]
  },
  {
   "cell_type": "code",
   "execution_count": 73,
   "id": "7a066027-4477-4db8-9bc4-1b027276cbb6",
   "metadata": {},
   "outputs": [
    {
     "name": "stdout",
     "output_type": "stream",
     "text": [
      "Name: Sumit\n",
      "Age: 21\n",
      "Grade: A\n",
      "Student ID: X1234\n",
      "Total Number of Classes Conducted: 118\n",
      "Total Attendance: 101\n"
     ]
    }
   ],
   "source": [
    "student1.update_attendance(\"18-08-2023\",\"ABSENT\")\n",
    "student1.get_attendance()"
   ]
  },
  {
   "cell_type": "code",
   "execution_count": 74,
   "id": "a0b1a745-0569-494e-ba4d-5f34eb5dd20e",
   "metadata": {},
   "outputs": [
    {
     "name": "stdout",
     "output_type": "stream",
     "text": [
      "The average attendance of Sumit is 85.59322033898306 %\n"
     ]
    }
   ],
   "source": [
    "student1.get_average_attendance()"
   ]
  }
 ],
 "metadata": {
  "kernelspec": {
   "display_name": "Python 3 (ipykernel)",
   "language": "python",
   "name": "python3"
  },
  "language_info": {
   "codemirror_mode": {
    "name": "ipython",
    "version": 3
   },
   "file_extension": ".py",
   "mimetype": "text/x-python",
   "name": "python",
   "nbconvert_exporter": "python",
   "pygments_lexer": "ipython3",
   "version": "3.10.6"
  }
 },
 "nbformat": 4,
 "nbformat_minor": 5
}
